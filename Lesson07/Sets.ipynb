{
  "nbformat": 4,
  "nbformat_minor": 0,
  "metadata": {
    "kernelspec": {
      "display_name": "Python 3",
      "language": "python",
      "name": "python3"
    },
    "language_info": {
      "codemirror_mode": {
        "name": "ipython",
        "version": 3
      },
      "file_extension": ".py",
      "mimetype": "text/x-python",
      "name": "python",
      "nbconvert_exporter": "python",
      "pygments_lexer": "ipython3",
      "version": "3.7.3"
    },
    "colab": {
      "name": "Sets.ipynb",
      "provenance": [],
      "collapsed_sections": [],
      "include_colab_link": true
    }
  },
  "cells": [
    {
      "cell_type": "markdown",
      "metadata": {
        "id": "view-in-github",
        "colab_type": "text"
      },
      "source": [
        "<a href=\"https://colab.research.google.com/github/FairozaAmira/AI_Programming_1_e/blob/master/Lesson07/Sets.ipynb\" target=\"_parent\"><img src=\"https://colab.research.google.com/assets/colab-badge.svg\" alt=\"Open In Colab\"/></a>"
      ]
    },
    {
      "cell_type": "markdown",
      "metadata": {
        "id": "DAlpl82kgh0-",
        "colab_type": "text"
      },
      "source": [
        "# Solution for Sets exercises"
      ]
    },
    {
      "cell_type": "markdown",
      "metadata": {
        "id": "fwGbor1sgh1A",
        "colab_type": "text"
      },
      "source": [
        "1. Create a list with variable List_A . The list contains elements [1, 1, 2, 5, 5, 5, 8, 8, 9]. Create another list with variable List_B. The list contains elements [1, 2, 2, 3, 3, 3, 6, 10]."
      ]
    },
    {
      "cell_type": "code",
      "metadata": {
        "id": "G9CYjtGogh1B",
        "colab_type": "code",
        "outputId": "feae2b0f-32fd-45d3-b08b-4d3493fdcf8b",
        "colab": {}
      },
      "source": [
        "List_A = [1, 1, 2, 5, 5, 5, 8, 8, 9]\n",
        "print(List_A)\n",
        "List_B = [1, 2, 2, 3, 3, 3, 6, 10]\n",
        "print(List_B)"
      ],
      "execution_count": 0,
      "outputs": [
        {
          "output_type": "stream",
          "text": [
            "[1, 1, 2, 5, 5, 5, 8, 8, 9]\n",
            "[1, 2, 2, 3, 3, 3, 6, 10]\n"
          ],
          "name": "stdout"
        }
      ]
    },
    {
      "cell_type": "markdown",
      "metadata": {
        "id": "gY_n9N9xgh1E",
        "colab_type": "text"
      },
      "source": [
        "2. Create a set for both List_A and List_B."
      ]
    },
    {
      "cell_type": "code",
      "metadata": {
        "id": "2NtDyoFIgh1F",
        "colab_type": "code",
        "outputId": "9ec2c1ac-c326-4e4f-e47e-265fd4f2ab65",
        "colab": {}
      },
      "source": [
        "List_A_set = set(List_A)\n",
        "print(List_A_set)\n",
        "List_B_set = set(List_B)\n",
        "print(List_B_set)"
      ],
      "execution_count": 0,
      "outputs": [
        {
          "output_type": "stream",
          "text": [
            "{1, 2, 5, 8, 9}\n",
            "{1, 2, 3, 6, 10}\n"
          ],
          "name": "stdout"
        }
      ]
    },
    {
      "cell_type": "markdown",
      "metadata": {
        "id": "DRlxrP_Sgh1I",
        "colab_type": "text"
      },
      "source": [
        "3. Find a union of both sets. "
      ]
    },
    {
      "cell_type": "code",
      "metadata": {
        "id": "CefGEO6_gh1J",
        "colab_type": "code",
        "outputId": "22f9c6e0-2bf6-451c-98db-787cb9c28499",
        "colab": {}
      },
      "source": [
        "List_A_set | List_B_set"
      ],
      "execution_count": 0,
      "outputs": [
        {
          "output_type": "execute_result",
          "data": {
            "text/plain": [
              "{1, 2, 3, 5, 6, 8, 9, 10}"
            ]
          },
          "metadata": {
            "tags": []
          },
          "execution_count": 4
        }
      ]
    },
    {
      "cell_type": "code",
      "metadata": {
        "id": "rM65m6Hqgh1M",
        "colab_type": "code",
        "outputId": "0feff161-1690-42ac-fbab-9c1c5458e44e",
        "colab": {}
      },
      "source": [
        "List_A_set.union(List_B_set)"
      ],
      "execution_count": 0,
      "outputs": [
        {
          "output_type": "execute_result",
          "data": {
            "text/plain": [
              "{1, 2, 3, 5, 6, 8, 9, 10}"
            ]
          },
          "metadata": {
            "tags": []
          },
          "execution_count": 5
        }
      ]
    },
    {
      "cell_type": "markdown",
      "metadata": {
        "id": "myTr6Rvogh1Q",
        "colab_type": "text"
      },
      "source": [
        "4. Find the intersection of both sets."
      ]
    },
    {
      "cell_type": "code",
      "metadata": {
        "id": "5S-kK4ubgh1Q",
        "colab_type": "code",
        "outputId": "49230a8e-aaa2-416f-e5f8-0d83235c5adc",
        "colab": {}
      },
      "source": [
        "List_A_set & List_B_set"
      ],
      "execution_count": 0,
      "outputs": [
        {
          "output_type": "execute_result",
          "data": {
            "text/plain": [
              "{1, 2}"
            ]
          },
          "metadata": {
            "tags": []
          },
          "execution_count": 6
        }
      ]
    },
    {
      "cell_type": "code",
      "metadata": {
        "id": "_3x9Vwgqgh1U",
        "colab_type": "code",
        "outputId": "38e83927-28a3-4491-88cc-0fe061ad02fb",
        "colab": {}
      },
      "source": [
        "List_A_set.intersection(List_B_set)"
      ],
      "execution_count": 0,
      "outputs": [
        {
          "output_type": "execute_result",
          "data": {
            "text/plain": [
              "{1, 2}"
            ]
          },
          "metadata": {
            "tags": []
          },
          "execution_count": 7
        }
      ]
    },
    {
      "cell_type": "markdown",
      "metadata": {
        "id": "2P2t4oI3gh1W",
        "colab_type": "text"
      },
      "source": [
        "5. Find the elements that are in List_A but not in List_B"
      ]
    },
    {
      "cell_type": "code",
      "metadata": {
        "id": "ZSWYY4K1gh1X",
        "colab_type": "code",
        "outputId": "558b8724-4f49-45e1-ee42-0bd5dc06ea3f",
        "colab": {}
      },
      "source": [
        "List_A_set - List_B_set"
      ],
      "execution_count": 0,
      "outputs": [
        {
          "output_type": "execute_result",
          "data": {
            "text/plain": [
              "{5, 8, 9}"
            ]
          },
          "metadata": {
            "tags": []
          },
          "execution_count": 8
        }
      ]
    },
    {
      "cell_type": "code",
      "metadata": {
        "id": "_VG97Bergh1a",
        "colab_type": "code",
        "outputId": "c37e8528-05b5-431e-a35b-e6b261d1d318",
        "colab": {}
      },
      "source": [
        "List_A_set.difference(List_B_set)"
      ],
      "execution_count": 0,
      "outputs": [
        {
          "output_type": "execute_result",
          "data": {
            "text/plain": [
              "{5, 8, 9}"
            ]
          },
          "metadata": {
            "tags": []
          },
          "execution_count": 9
        }
      ]
    },
    {
      "cell_type": "markdown",
      "metadata": {
        "id": "smWsowZ1gh1c",
        "colab_type": "text"
      },
      "source": [
        "6. Find the elements that only appears in either one set."
      ]
    },
    {
      "cell_type": "code",
      "metadata": {
        "id": "uUXhzp1ggh1d",
        "colab_type": "code",
        "outputId": "7d3e1b76-b00c-4590-a5f2-8a89d1cd6749",
        "colab": {}
      },
      "source": [
        "List_A_set ^ List_B_set"
      ],
      "execution_count": 0,
      "outputs": [
        {
          "output_type": "execute_result",
          "data": {
            "text/plain": [
              "{3, 5, 6, 8, 9, 10}"
            ]
          },
          "metadata": {
            "tags": []
          },
          "execution_count": 10
        }
      ]
    },
    {
      "cell_type": "code",
      "metadata": {
        "id": "gb5dVsSAgh1f",
        "colab_type": "code",
        "outputId": "27ca46b5-29a7-4caa-8394-cac64920cdfe",
        "colab": {}
      },
      "source": [
        "List_A_set.symmetric_difference(List_B_set)"
      ],
      "execution_count": 0,
      "outputs": [
        {
          "output_type": "execute_result",
          "data": {
            "text/plain": [
              "{3, 5, 6, 8, 9, 10}"
            ]
          },
          "metadata": {
            "tags": []
          },
          "execution_count": 11
        }
      ]
    }
  ]
}