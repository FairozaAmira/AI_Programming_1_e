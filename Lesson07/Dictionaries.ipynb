{
  "nbformat": 4,
  "nbformat_minor": 0,
  "metadata": {
    "kernelspec": {
      "display_name": "Python 3",
      "language": "python",
      "name": "python3"
    },
    "language_info": {
      "codemirror_mode": {
        "name": "ipython",
        "version": 3
      },
      "file_extension": ".py",
      "mimetype": "text/x-python",
      "name": "python",
      "nbconvert_exporter": "python",
      "pygments_lexer": "ipython3",
      "version": "3.7.3"
    },
    "colab": {
      "name": "Dictionaries.ipynb",
      "provenance": [],
      "collapsed_sections": [],
      "include_colab_link": true
    }
  },
  "cells": [
    {
      "cell_type": "markdown",
      "metadata": {
        "id": "view-in-github",
        "colab_type": "text"
      },
      "source": [
        "<a href=\"https://colab.research.google.com/github/FairozaAmira/AI_Programming_1_e/blob/master/Lesson07/Dictionaries.ipynb\" target=\"_parent\"><img src=\"https://colab.research.google.com/assets/colab-badge.svg\" alt=\"Open In Colab\"/></a>"
      ]
    },
    {
      "cell_type": "markdown",
      "metadata": {
        "id": "eaBhHQfVgqSL",
        "colab_type": "text"
      },
      "source": [
        "# Solution for Dictionaries Exercises"
      ]
    },
    {
      "cell_type": "markdown",
      "metadata": {
        "id": "jYMznBLigqSM",
        "colab_type": "text"
      },
      "source": [
        "1.  Create a dictionary which contains 'english spelling' for keys and 'number' in integer as values from 1 to 10 in random orders. For example, one: 1, two: 2. Set the dictionary as variable 'numbers'."
      ]
    },
    {
      "cell_type": "code",
      "metadata": {
        "id": "EXQxhEe2gqSO",
        "colab_type": "code",
        "outputId": "7d135373-275e-4391-bf96-0dc94a183dfd",
        "colab": {}
      },
      "source": [
        "numbers = {'one': 1, 'three': 3, 'seven': 7, 'two': 2, 'four': 4, 'eight': 8, 'ten': 10, 'five': 5, 'six': 6, 'nine': 9}\n",
        "print(numbers)"
      ],
      "execution_count": 0,
      "outputs": [
        {
          "output_type": "stream",
          "text": [
            "{'one': 1, 'three': 3, 'seven': 7, 'two': 2, 'four': 4, 'eight': 8, 'ten': 10, 'five': 5, 'six': 6, 'nine': 9}\n"
          ],
          "name": "stdout"
        }
      ]
    },
    {
      "cell_type": "markdown",
      "metadata": {
        "id": "i1SZZH6zgqSU",
        "colab_type": "text"
      },
      "source": [
        "2. What is the second key of *numbers*?"
      ]
    },
    {
      "cell_type": "code",
      "metadata": {
        "id": "p4WkCG9vgqSV",
        "colab_type": "code",
        "outputId": "7002f398-54d8-4fda-a716-8c38cf078a46",
        "colab": {}
      },
      "source": [
        "print(numbers[1])"
      ],
      "execution_count": 0,
      "outputs": [
        {
          "output_type": "error",
          "ename": "KeyError",
          "evalue": "1",
          "traceback": [
            "\u001b[1;31m---------------------------------------------------------------------------\u001b[0m",
            "\u001b[1;31mKeyError\u001b[0m                                  Traceback (most recent call last)",
            "\u001b[1;32m<ipython-input-2-fe19fe9cac02>\u001b[0m in \u001b[0;36m<module>\u001b[1;34m\u001b[0m\n\u001b[1;32m----> 1\u001b[1;33m \u001b[0mprint\u001b[0m\u001b[1;33m(\u001b[0m\u001b[0mnumbers\u001b[0m\u001b[1;33m[\u001b[0m\u001b[1;36m1\u001b[0m\u001b[1;33m]\u001b[0m\u001b[1;33m)\u001b[0m\u001b[1;33m\u001b[0m\u001b[1;33m\u001b[0m\u001b[0m\n\u001b[0m",
            "\u001b[1;31mKeyError\u001b[0m: 1"
          ]
        }
      ]
    },
    {
      "cell_type": "markdown",
      "metadata": {
        "id": "W1mjD1T7gqSX",
        "colab_type": "text"
      },
      "source": [
        "3. Find the number of unique keys in *numbers*."
      ]
    },
    {
      "cell_type": "code",
      "metadata": {
        "id": "Z84PgarRgqSX",
        "colab_type": "code",
        "outputId": "a4926f80-0ea3-4802-cab5-6e68beeceaff",
        "colab": {}
      },
      "source": [
        "num_keys = len(numbers)\n",
        "print(num_keys)"
      ],
      "execution_count": 0,
      "outputs": [
        {
          "output_type": "stream",
          "text": [
            "10\n"
          ],
          "name": "stdout"
        }
      ]
    },
    {
      "cell_type": "markdown",
      "metadata": {
        "id": "4xZAatOTgqSZ",
        "colab_type": "text"
      },
      "source": [
        "4. Find whether 'eleven' is a key in *numbers*."
      ]
    },
    {
      "cell_type": "code",
      "metadata": {
        "id": "sxDwn28mgqSa",
        "colab_type": "code",
        "outputId": "64049c2f-25a7-4dfe-a8a5-4817de3cc6f6",
        "colab": {}
      },
      "source": [
        "contains_eleven = numbers.get('eleven')\n",
        "print(contains_eleven)"
      ],
      "execution_count": 0,
      "outputs": [
        {
          "output_type": "stream",
          "text": [
            "None\n"
          ],
          "name": "stdout"
        }
      ]
    },
    {
      "cell_type": "code",
      "metadata": {
        "scrolled": true,
        "id": "KgOVmWMmgqSc",
        "colab_type": "code",
        "outputId": "3e7813aa-9461-4cf4-8f45-959b0fa7ea05",
        "colab": {}
      },
      "source": [
        "contains_eleven = \"eleven\" in numbers\n",
        "print(contains_eleven)"
      ],
      "execution_count": 0,
      "outputs": [
        {
          "output_type": "stream",
          "text": [
            "False\n"
          ],
          "name": "stdout"
        }
      ]
    },
    {
      "cell_type": "markdown",
      "metadata": {
        "id": "6ggb-ylKgqSe",
        "colab_type": "text"
      },
      "source": [
        "5. Set a new key and value pair of 'eleven': 11"
      ]
    },
    {
      "cell_type": "code",
      "metadata": {
        "id": "xhuJW6pdgqSf",
        "colab_type": "code",
        "outputId": "95ca6f21-affb-4c3e-b132-3ae27405eca7",
        "colab": {}
      },
      "source": [
        "numbers['eleven'] = 11\n",
        "print(numbers)"
      ],
      "execution_count": 0,
      "outputs": [
        {
          "output_type": "stream",
          "text": [
            "{'one': 1, 'three': 3, 'seven': 7, 'two': 2, 'four': 4, 'eight': 8, 'ten': 10, 'five': 5, 'six': 6, 'nine': 9, 'eleven': 11}\n"
          ],
          "name": "stdout"
        }
      ]
    },
    {
      "cell_type": "markdown",
      "metadata": {
        "id": "QdlSV8ItgqSj",
        "colab_type": "text"
      },
      "source": [
        "6. Create and sort a list of keys in *numbers*"
      ]
    },
    {
      "cell_type": "code",
      "metadata": {
        "id": "sG-ksflEgqSk",
        "colab_type": "code",
        "outputId": "f9fdb5f9-4a79-4657-99ef-cbf9af3fdca1",
        "colab": {}
      },
      "source": [
        "sorted_keys = sorted(numbers.keys())\n",
        "print(sorted_keys)"
      ],
      "execution_count": 0,
      "outputs": [
        {
          "output_type": "stream",
          "text": [
            "['eight', 'eleven', 'five', 'four', 'nine', 'one', 'seven', 'six', 'ten', 'three', 'two']\n"
          ],
          "name": "stdout"
        }
      ]
    },
    {
      "cell_type": "markdown",
      "metadata": {
        "id": "nIdPj4vbgqSm",
        "colab_type": "text"
      },
      "source": [
        "7. Get the first element in the sorted list of keys"
      ]
    },
    {
      "cell_type": "code",
      "metadata": {
        "id": "82ALC_xmgqSn",
        "colab_type": "code",
        "outputId": "7146e945-2a55-4161-ad9c-2e953a2720c4",
        "colab": {}
      },
      "source": [
        "print(sorted_keys[0])"
      ],
      "execution_count": 0,
      "outputs": [
        {
          "output_type": "stream",
          "text": [
            "eight\n"
          ],
          "name": "stdout"
        }
      ]
    },
    {
      "cell_type": "markdown",
      "metadata": {
        "id": "USPd9IuygqSp",
        "colab_type": "text"
      },
      "source": [
        "8. Find the highest value in the list of keys"
      ]
    },
    {
      "cell_type": "code",
      "metadata": {
        "id": "km-agvd7gqSp",
        "colab_type": "code",
        "outputId": "ea51600e-84af-4502-f19c-93e9c4fd0afd",
        "colab": {}
      },
      "source": [
        "print(sorted_keys[-1])"
      ],
      "execution_count": 0,
      "outputs": [
        {
          "output_type": "stream",
          "text": [
            "two\n"
          ],
          "name": "stdout"
        }
      ]
    },
    {
      "cell_type": "markdown",
      "metadata": {
        "id": "ZYFEjnpmgqSs",
        "colab_type": "text"
      },
      "source": [
        "9. Create and sort a list of values in *numbers*"
      ]
    },
    {
      "cell_type": "code",
      "metadata": {
        "id": "5x3xPew4gqSt",
        "colab_type": "code",
        "outputId": "208fe07d-c521-4d1f-8e47-cb00dc58f0f3",
        "colab": {}
      },
      "source": [
        "sorted_values = sorted(numbers.values())\n",
        "print(sorted_values)"
      ],
      "execution_count": 0,
      "outputs": [
        {
          "output_type": "stream",
          "text": [
            "[1, 2, 3, 4, 5, 6, 7, 8, 9, 10, 11]\n"
          ],
          "name": "stdout"
        }
      ]
    },
    {
      "cell_type": "markdown",
      "metadata": {
        "id": "UIy992r4gqSz",
        "colab_type": "text"
      },
      "source": [
        "10. Get the first element in the sorted list of values."
      ]
    },
    {
      "cell_type": "code",
      "metadata": {
        "id": "V0lAHdbCgqS0",
        "colab_type": "code",
        "outputId": "6c668937-600f-466a-f1f3-ac87f99b85bc",
        "colab": {}
      },
      "source": [
        "print(sorted_values[0])"
      ],
      "execution_count": 0,
      "outputs": [
        {
          "output_type": "stream",
          "text": [
            "1\n"
          ],
          "name": "stdout"
        }
      ]
    },
    {
      "cell_type": "markdown",
      "metadata": {
        "id": "P0hfkQV7gqS4",
        "colab_type": "text"
      },
      "source": [
        "11. Access the value of 'nine'"
      ]
    },
    {
      "cell_type": "code",
      "metadata": {
        "id": "GtPNsnkhgqS5",
        "colab_type": "code",
        "outputId": "ec10e456-312f-4b02-c16c-7f428fb1ccdd",
        "colab": {}
      },
      "source": [
        "numbers['nine']"
      ],
      "execution_count": 0,
      "outputs": [
        {
          "output_type": "execute_result",
          "data": {
            "text/plain": [
              "9"
            ]
          },
          "metadata": {
            "tags": []
          },
          "execution_count": 12
        }
      ]
    }
  ]
}