{
  "nbformat": 4,
  "nbformat_minor": 0,
  "metadata": {
    "kernelspec": {
      "display_name": "Python 3",
      "language": "python",
      "name": "python3"
    },
    "language_info": {
      "codemirror_mode": {
        "name": "ipython",
        "version": 3
      },
      "file_extension": ".py",
      "mimetype": "text/x-python",
      "name": "python",
      "nbconvert_exporter": "python",
      "pygments_lexer": "ipython3",
      "version": "3.7.3"
    },
    "colab": {
      "name": "Solutions for String Manipulation.ipynb",
      "provenance": [],
      "include_colab_link": true
    }
  },
  "cells": [
    {
      "cell_type": "markdown",
      "metadata": {
        "id": "view-in-github",
        "colab_type": "text"
      },
      "source": [
        "<a href=\"https://colab.research.google.com/github/FairozaAmira/AI_Programming_1_e/blob/master/Lesson11/Solutions_for_String_Manipulation.ipynb\" target=\"_parent\"><img src=\"https://colab.research.google.com/assets/colab-badge.svg\" alt=\"Open In Colab\"/></a>"
      ]
    },
    {
      "cell_type": "markdown",
      "metadata": {
        "id": "TCs6l6NVAFpA",
        "colab_type": "text"
      },
      "source": [
        "# Solutions for String Manipulation Exercises"
      ]
    },
    {
      "cell_type": "markdown",
      "metadata": {
        "id": "xte8zQjsAFpQ",
        "colab_type": "text"
      },
      "source": [
        "**Question 1**\n",
        "\n",
        "Try this code, and see whether both of them are the same or not.\n",
        "`a = 'kcgi'`\n",
        "`b = \"kcgi\"`\n",
        "`a == b `\n",
        "\n",
        "Is it True or False?"
      ]
    },
    {
      "cell_type": "code",
      "metadata": {
        "id": "jnR0VwyVAFpU",
        "colab_type": "code",
        "outputId": "2aa46c7e-fe6c-41ac-fb21-9da347671b43",
        "colab": {}
      },
      "source": [
        "a = 'kcgi'\n",
        "b = \"kcgi\"\n",
        "a == b"
      ],
      "execution_count": 0,
      "outputs": [
        {
          "output_type": "execute_result",
          "data": {
            "text/plain": [
              "True"
            ]
          },
          "metadata": {
            "tags": []
          },
          "execution_count": 1
        }
      ]
    },
    {
      "cell_type": "markdown",
      "metadata": {
        "id": "h5yi94E9AFpq",
        "colab_type": "text"
      },
      "source": [
        "**Question 2**\n",
        "\n",
        "Try to write a string with triple-quote syntax and is it can be displayed when we called out the variable?"
      ]
    },
    {
      "cell_type": "code",
      "metadata": {
        "id": "nsid0hnbAFpu",
        "colab_type": "code",
        "outputId": "231dd303-7e8d-4ddf-f0dd-aec744751951",
        "colab": {
          "base_uri": "https://localhost:8080/",
          "height": 67
        }
      },
      "source": [
        "multi_line = \"\"\"a\n",
        "b\n",
        "c\"\"\"\n",
        "\n",
        "print(multi_line)"
      ],
      "execution_count": 0,
      "outputs": [
        {
          "output_type": "stream",
          "text": [
            "a\n",
            "b\n",
            "c\n"
          ],
          "name": "stdout"
        }
      ]
    },
    {
      "cell_type": "markdown",
      "metadata": {
        "id": "S-2AHSwuAFp4",
        "colab_type": "text"
      },
      "source": [
        "**Question 3**\n",
        "\n",
        "Let's try to adjust the case for this string.\n",
        "\n",
        "`the Kyoto College of Graduate studies for informatics`\n",
        "\n",
        "1) Turn to all capital letters by using `.upper()`\n",
        "\n",
        "2) Turn to all small letters by using `.lower()`\n",
        "\n",
        "3) Capitalize each words of the string by using `.title()`\n",
        "\n",
        "4) Capitalize the first letter of the string by using `.capitalize()`\n",
        "\n",
        "5) Swap the case by using `.swapcase()`"
      ]
    },
    {
      "cell_type": "code",
      "metadata": {
        "id": "L3KGvgQRAFp7",
        "colab_type": "code",
        "colab": {}
      },
      "source": [
        "kcgi = \"the Kyoto College of Graduate studies for informatics\""
      ],
      "execution_count": 0,
      "outputs": []
    },
    {
      "cell_type": "code",
      "metadata": {
        "id": "TP3gW3FAAFqD",
        "colab_type": "code",
        "outputId": "e001d2e0-b51e-4453-c190-facec4a98bf2",
        "colab": {}
      },
      "source": [
        "kcgi.upper()"
      ],
      "execution_count": 0,
      "outputs": [
        {
          "output_type": "execute_result",
          "data": {
            "text/plain": [
              "'THE KYOTO COLLEGE OF GRADUATE STUDIES FOR INFORMATICS'"
            ]
          },
          "metadata": {
            "tags": []
          },
          "execution_count": 4
        }
      ]
    },
    {
      "cell_type": "code",
      "metadata": {
        "id": "eBk2jEeqAFqK",
        "colab_type": "code",
        "outputId": "d51cc733-0700-4b4e-906b-224cc190eec1",
        "colab": {}
      },
      "source": [
        "kcgi.lower()"
      ],
      "execution_count": 0,
      "outputs": [
        {
          "output_type": "execute_result",
          "data": {
            "text/plain": [
              "'the kyoto college of graduate studies for informatics'"
            ]
          },
          "metadata": {
            "tags": []
          },
          "execution_count": 5
        }
      ]
    },
    {
      "cell_type": "code",
      "metadata": {
        "id": "vOsp18VSAFqT",
        "colab_type": "code",
        "outputId": "bee276ef-a87f-47ec-f795-3f5370f94233",
        "colab": {}
      },
      "source": [
        "kcgi.title()"
      ],
      "execution_count": 0,
      "outputs": [
        {
          "output_type": "execute_result",
          "data": {
            "text/plain": [
              "'The Kyoto College Of Graduate Studies For Informatics'"
            ]
          },
          "metadata": {
            "tags": []
          },
          "execution_count": 6
        }
      ]
    },
    {
      "cell_type": "code",
      "metadata": {
        "id": "mRdumZcRAFqc",
        "colab_type": "code",
        "outputId": "e0a53622-5ae3-462c-bfdf-044b3cabf7a4",
        "colab": {}
      },
      "source": [
        "kcgi.capitalize()"
      ],
      "execution_count": 0,
      "outputs": [
        {
          "output_type": "execute_result",
          "data": {
            "text/plain": [
              "'The kyoto college of graduate studies for informatics'"
            ]
          },
          "metadata": {
            "tags": []
          },
          "execution_count": 7
        }
      ]
    },
    {
      "cell_type": "code",
      "metadata": {
        "id": "rfIHmTptAFql",
        "colab_type": "code",
        "outputId": "0b1fb705-611d-4cd4-ae97-32a61d0328da",
        "colab": {}
      },
      "source": [
        "kcgi.swapcase()"
      ],
      "execution_count": 0,
      "outputs": [
        {
          "output_type": "execute_result",
          "data": {
            "text/plain": [
              "'THE kYOTO cOLLEGE OF gRADUATE STUDIES FOR INFORMATICS'"
            ]
          },
          "metadata": {
            "tags": []
          },
          "execution_count": 8
        }
      ]
    },
    {
      "cell_type": "markdown",
      "metadata": {
        "id": "E8UX20Q6AFqs",
        "colab_type": "text"
      },
      "source": [
        "**Question 4**\n",
        "\n",
        "Use `.strip()` to remove unnecessary whitespace in the strings below.\n",
        "`           kyoto computer gakuin           `"
      ]
    },
    {
      "cell_type": "code",
      "metadata": {
        "id": "MatLEvGfAFqu",
        "colab_type": "code",
        "colab": {}
      },
      "source": [
        "kcg = \"           kyoto computer gakuin           \""
      ],
      "execution_count": 0,
      "outputs": []
    },
    {
      "cell_type": "code",
      "metadata": {
        "id": "I4WPfUpOAFq0",
        "colab_type": "code",
        "outputId": "20c31f6b-d26d-408b-f32f-6d323601f2b9",
        "colab": {}
      },
      "source": [
        "kcg.strip()"
      ],
      "execution_count": 0,
      "outputs": [
        {
          "output_type": "execute_result",
          "data": {
            "text/plain": [
              "'kyoto computer gakuin'"
            ]
          },
          "metadata": {
            "tags": []
          },
          "execution_count": 10
        }
      ]
    },
    {
      "cell_type": "code",
      "metadata": {
        "id": "OJXdEEibAFq8",
        "colab_type": "code",
        "outputId": "28e8c8ff-7786-4d2f-fad2-569502032294",
        "colab": {}
      },
      "source": [
        "kcg.rstrip()"
      ],
      "execution_count": 0,
      "outputs": [
        {
          "output_type": "execute_result",
          "data": {
            "text/plain": [
              "'           kyoto computer gakuin'"
            ]
          },
          "metadata": {
            "tags": []
          },
          "execution_count": 11
        }
      ]
    },
    {
      "cell_type": "code",
      "metadata": {
        "id": "IJTqA1c-AFrD",
        "colab_type": "code",
        "outputId": "96f11408-45e0-41b3-d498-3b4e52b1776f",
        "colab": {}
      },
      "source": [
        "kcg.lstrip()"
      ],
      "execution_count": 0,
      "outputs": [
        {
          "output_type": "execute_result",
          "data": {
            "text/plain": [
              "'kyoto computer gakuin           '"
            ]
          },
          "metadata": {
            "tags": []
          },
          "execution_count": 12
        }
      ]
    },
    {
      "cell_type": "markdown",
      "metadata": {
        "id": "_MdX0eMBAFrI",
        "colab_type": "text"
      },
      "source": [
        "**Question 5**\n",
        "\n",
        "What if we want to take out string '0' of the string below? How we are going to do that?\n",
        "\n",
        "`\"00000456\"`\n",
        "\n",
        "Then, we want to fill the zero back again. How to do that?"
      ]
    },
    {
      "cell_type": "code",
      "metadata": {
        "id": "GYNBJpECAFrJ",
        "colab_type": "code",
        "outputId": "868b1cea-5bd2-479c-821f-2990806cdc34",
        "colab": {}
      },
      "source": [
        "num = \"00000456\"\n",
        "num.strip('0')"
      ],
      "execution_count": 0,
      "outputs": [
        {
          "output_type": "execute_result",
          "data": {
            "text/plain": [
              "'456'"
            ]
          },
          "metadata": {
            "tags": []
          },
          "execution_count": 13
        }
      ]
    },
    {
      "cell_type": "code",
      "metadata": {
        "id": "rRylIpizAFrR",
        "colab_type": "code",
        "outputId": "8acc644c-75ac-4b15-ccf6-e88b6d11b701",
        "colab": {}
      },
      "source": [
        "num.zfill(5)"
      ],
      "execution_count": 0,
      "outputs": [
        {
          "output_type": "execute_result",
          "data": {
            "text/plain": [
              "'00000456'"
            ]
          },
          "metadata": {
            "tags": []
          },
          "execution_count": 14
        }
      ]
    },
    {
      "cell_type": "markdown",
      "metadata": {
        "id": "T-AyIVRlAFrW",
        "colab_type": "text"
      },
      "source": [
        "**Question 6**\n",
        "\n",
        "We can also find and replace substrings inside a string.\n",
        "\n",
        "To find the substring, you can use `.find()`, `.rfind()` or  `.index()`, to replace a substring you can use `.replace()`\n",
        "\n",
        "Given a string as below. \n",
        "\n",
        "`\"the kyoto college of graduate studies for informatics\"`\n",
        "\n",
        "1. Find the `kyoto` substring by using `.find()` and `.index()`\n",
        "\n",
        "2. Find the `university` substring by using `.find()` and `.index()`\n",
        "\n",
        "3. Check whether `kyoto` is the first substring of the string by using `.startswith()`.\n",
        "\n",
        "4. Check whether `informatics` is the last substring of the string by using `endswith()`\n",
        "\n",
        "5. Replace character `e` with `--` in the string by using `.replace()`"
      ]
    },
    {
      "cell_type": "code",
      "metadata": {
        "id": "bULMYamSAFrX",
        "colab_type": "code",
        "colab": {}
      },
      "source": [
        "kcgi = \"the kyoto college of graduate studies for informatics\""
      ],
      "execution_count": 0,
      "outputs": []
    },
    {
      "cell_type": "code",
      "metadata": {
        "id": "2h0Gpf1WAFrf",
        "colab_type": "code",
        "outputId": "e1929d77-43e2-4c8e-ec94-d5e704d5a1f3",
        "colab": {}
      },
      "source": [
        "kcgi.find(\"kyoto\")"
      ],
      "execution_count": 0,
      "outputs": [
        {
          "output_type": "execute_result",
          "data": {
            "text/plain": [
              "4"
            ]
          },
          "metadata": {
            "tags": []
          },
          "execution_count": 16
        }
      ]
    },
    {
      "cell_type": "code",
      "metadata": {
        "id": "BIuHpnYKAFrq",
        "colab_type": "code",
        "outputId": "ac867731-b74b-4649-9f88-e4f9d139e007",
        "colab": {}
      },
      "source": [
        "kcgi.index(\"kyoto\")"
      ],
      "execution_count": 0,
      "outputs": [
        {
          "output_type": "execute_result",
          "data": {
            "text/plain": [
              "4"
            ]
          },
          "metadata": {
            "tags": []
          },
          "execution_count": 17
        }
      ]
    },
    {
      "cell_type": "code",
      "metadata": {
        "id": "Krldiv0zAFrw",
        "colab_type": "code",
        "outputId": "89b03843-dda8-4699-99e1-b75bab707293",
        "colab": {}
      },
      "source": [
        "kcgi.find(\"university\")"
      ],
      "execution_count": 0,
      "outputs": [
        {
          "output_type": "execute_result",
          "data": {
            "text/plain": [
              "-1"
            ]
          },
          "metadata": {
            "tags": []
          },
          "execution_count": 18
        }
      ]
    },
    {
      "cell_type": "code",
      "metadata": {
        "id": "dph5frBqAFr-",
        "colab_type": "code",
        "outputId": "d1144251-0da9-4e5d-92a4-93390422170d",
        "colab": {}
      },
      "source": [
        "kcgi.index(\"university\")"
      ],
      "execution_count": 0,
      "outputs": [
        {
          "output_type": "error",
          "ename": "ValueError",
          "evalue": "substring not found",
          "traceback": [
            "\u001b[1;31m---------------------------------------------------------------------------\u001b[0m",
            "\u001b[1;31mValueError\u001b[0m                                Traceback (most recent call last)",
            "\u001b[1;32m<ipython-input-19-73cf2f9e4433>\u001b[0m in \u001b[0;36m<module>\u001b[1;34m\u001b[0m\n\u001b[1;32m----> 1\u001b[1;33m \u001b[0mkcgi\u001b[0m\u001b[1;33m.\u001b[0m\u001b[0mindex\u001b[0m\u001b[1;33m(\u001b[0m\u001b[1;34m\"university\"\u001b[0m\u001b[1;33m)\u001b[0m\u001b[1;33m\u001b[0m\u001b[1;33m\u001b[0m\u001b[0m\n\u001b[0m",
            "\u001b[1;31mValueError\u001b[0m: substring not found"
          ]
        }
      ]
    },
    {
      "cell_type": "code",
      "metadata": {
        "id": "we3JQEpzAFsJ",
        "colab_type": "code",
        "outputId": "ab6dfb57-f693-4edf-93ce-8335260728f9",
        "colab": {}
      },
      "source": [
        "kcgi.startswith(\"kyoto\")"
      ],
      "execution_count": 0,
      "outputs": [
        {
          "output_type": "execute_result",
          "data": {
            "text/plain": [
              "False"
            ]
          },
          "metadata": {
            "tags": []
          },
          "execution_count": 20
        }
      ]
    },
    {
      "cell_type": "code",
      "metadata": {
        "id": "pMZ7CyWgAFsO",
        "colab_type": "code",
        "outputId": "33ceebef-4994-46ef-a9d8-5225ae6c30e7",
        "colab": {}
      },
      "source": [
        "kcgi.endswith(\"informatics\")"
      ],
      "execution_count": 0,
      "outputs": [
        {
          "output_type": "execute_result",
          "data": {
            "text/plain": [
              "True"
            ]
          },
          "metadata": {
            "tags": []
          },
          "execution_count": 21
        }
      ]
    },
    {
      "cell_type": "code",
      "metadata": {
        "id": "-IT6tzy8AFsT",
        "colab_type": "code",
        "outputId": "96a6600a-6722-4672-dbd7-1797329b1a0f",
        "colab": {}
      },
      "source": [
        "kcgi.replace(\"e\", \"--\")"
      ],
      "execution_count": 0,
      "outputs": [
        {
          "output_type": "execute_result",
          "data": {
            "text/plain": [
              "'th-- kyoto coll--g-- of graduat-- studi--s for informatics'"
            ]
          },
          "metadata": {
            "tags": []
          },
          "execution_count": 22
        }
      ]
    },
    {
      "cell_type": "markdown",
      "metadata": {
        "id": "OkzN2yqlAFse",
        "colab_type": "text"
      },
      "source": [
        "**Question 7**\n",
        "\n",
        "By using the same string as in *Question 6* partition the string into three parts. Use substring `graduate` as the cut-off. Use `.partition()` to do this.\n",
        "\n",
        "Next, split the strings individually by using `.split()`"
      ]
    },
    {
      "cell_type": "code",
      "metadata": {
        "id": "DSwOIk89AFsg",
        "colab_type": "code",
        "outputId": "97f54990-4cec-4257-99f1-0e8ed2193af1",
        "colab": {}
      },
      "source": [
        "kcgi.partition(\"graduate\")"
      ],
      "execution_count": 0,
      "outputs": [
        {
          "output_type": "execute_result",
          "data": {
            "text/plain": [
              "('the kyoto college of ', 'graduate', ' studies for informatics')"
            ]
          },
          "metadata": {
            "tags": []
          },
          "execution_count": 23
        }
      ]
    },
    {
      "cell_type": "code",
      "metadata": {
        "id": "xIDxBZ5oAFsq",
        "colab_type": "code",
        "outputId": "2654dd6d-76f2-4b0e-d39a-caf930f83d65",
        "colab": {}
      },
      "source": [
        "kcgi.split()"
      ],
      "execution_count": 0,
      "outputs": [
        {
          "output_type": "execute_result",
          "data": {
            "text/plain": [
              "['the', 'kyoto', 'college', 'of', 'graduate', 'studies', 'for', 'informatics']"
            ]
          },
          "metadata": {
            "tags": []
          },
          "execution_count": 24
        }
      ]
    },
    {
      "cell_type": "markdown",
      "metadata": {
        "id": "Nq0keSySAFsv",
        "colab_type": "text"
      },
      "source": [
        "**Question 8**\n",
        "\n",
        "Try to join both of the strings below by using `.join()`\n",
        "\n",
        "`string1 = \"--\"`\n",
        "\n",
        "`string2 = [\"a\", \"b\", \"c\"]`"
      ]
    },
    {
      "cell_type": "code",
      "metadata": {
        "id": "kqySenIFAFsw",
        "colab_type": "code",
        "outputId": "a5dbb8e9-512f-4e2a-fe82-254e8a9d2cdd",
        "colab": {}
      },
      "source": [
        "string1 = \"--\"\n",
        "\n",
        "string2 = [\"a\", \"b\", \"c\"]\n",
        "\n",
        "string1.join(string2)"
      ],
      "execution_count": 0,
      "outputs": [
        {
          "output_type": "execute_result",
          "data": {
            "text/plain": [
              "'a--b--c'"
            ]
          },
          "metadata": {
            "tags": []
          },
          "execution_count": 25
        }
      ]
    },
    {
      "cell_type": "markdown",
      "metadata": {
        "id": "eDFS7JU5AFs1",
        "colab_type": "text"
      },
      "source": [
        "**Question 9**\n",
        "\n",
        "Change an integer to a string.\n",
        "\n",
        "b = 3\n",
        "\n",
        "Then, use `.format()` to write the sentence below.\n",
        "\n",
        "`He has {b} oranges.`"
      ]
    },
    {
      "cell_type": "code",
      "metadata": {
        "id": "s340ylbmAFs4",
        "colab_type": "code",
        "outputId": "59db1e29-681d-46b4-b077-cdb402e5e985",
        "colab": {}
      },
      "source": [
        "b = 3\n",
        "str(b)\n",
        "\n",
        "print(\"He has {} oranges.\".format(str(b)) )"
      ],
      "execution_count": 0,
      "outputs": [
        {
          "output_type": "stream",
          "text": [
            "He has 3 oranges.\n"
          ],
          "name": "stdout"
        }
      ]
    },
    {
      "cell_type": "markdown",
      "metadata": {
        "id": "3zPfZeVlAFs_",
        "colab_type": "text"
      },
      "source": [
        "**Question 10**\n",
        "\n",
        "You can also use indexing to include a variable in a string.\n",
        "Or determine how many decimal places would you want it to display. By using `{0:.3f}` for 3 decimal places.\n",
        "\n",
        "1. Write the following string.\n",
        "`\"\"\"First letter is {0}, second letter is {1}.\"\"\".format('A','B')`\n",
        "then, change index `{0}` to `{first}` and `{1}` to `{second}`\n",
        "\n",
        "2. Write the `pi` value in nearest 2 decimal places.\n",
        "Use `from math import pi` to get the `pi` value"
      ]
    },
    {
      "cell_type": "code",
      "metadata": {
        "id": "SPeBGAyKAFtB",
        "colab_type": "code",
        "outputId": "59688f09-7b57-474f-ba1d-af96a8beb835",
        "colab": {
          "base_uri": "https://localhost:8080/",
          "height": 35
        }
      },
      "source": [
        "print(\"\"\"First letter is {0}, second letter is {1}.\"\"\".format('A','B'))"
      ],
      "execution_count": 0,
      "outputs": [
        {
          "output_type": "stream",
          "text": [
            "First letter is A, second letter is B.\n"
          ],
          "name": "stdout"
        }
      ]
    },
    {
      "cell_type": "code",
      "metadata": {
        "id": "J5ilYuGzAFtM",
        "colab_type": "code",
        "outputId": "c66fa629-33d1-4fa1-dd04-c6e659df5c8b",
        "colab": {}
      },
      "source": [
        "print(\"\"\"First letter is {first}, second letter is {second}.\"\"\".format(first= 'A',second='B'))"
      ],
      "execution_count": 0,
      "outputs": [
        {
          "output_type": "stream",
          "text": [
            "First letter is A, second letter is B.\n"
          ],
          "name": "stdout"
        }
      ]
    },
    {
      "cell_type": "code",
      "metadata": {
        "id": "8e9URMhkAFtT",
        "colab_type": "code",
        "outputId": "a1389652-3f7e-407a-c1fc-25b198b111f8",
        "colab": {}
      },
      "source": [
        "from math import pi\n",
        "print(\"pi = {0: .2f}\".format(pi))"
      ],
      "execution_count": 0,
      "outputs": [
        {
          "output_type": "stream",
          "text": [
            "pi =  3.14\n"
          ],
          "name": "stdout"
        }
      ]
    },
    {
      "cell_type": "code",
      "metadata": {
        "id": "7KFuA5T9AFte",
        "colab_type": "code",
        "colab": {}
      },
      "source": [
        ""
      ],
      "execution_count": 0,
      "outputs": []
    }
  ]
}