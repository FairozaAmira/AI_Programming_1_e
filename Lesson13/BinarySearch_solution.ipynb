{
  "nbformat": 4,
  "nbformat_minor": 0,
  "metadata": {
    "kernelspec": {
      "display_name": "Python 3",
      "language": "python",
      "name": "python3"
    },
    "language_info": {
      "codemirror_mode": {
        "name": "ipython",
        "version": 3
      },
      "file_extension": ".py",
      "mimetype": "text/x-python",
      "name": "python",
      "nbconvert_exporter": "python",
      "pygments_lexer": "ipython3",
      "version": "3.7.3"
    },
    "colab": {
      "name": "BinarySearch_solution.ipynb",
      "provenance": [],
      "collapsed_sections": [],
      "include_colab_link": true
    }
  },
  "cells": [
    {
      "cell_type": "markdown",
      "metadata": {
        "id": "view-in-github",
        "colab_type": "text"
      },
      "source": [
        "<a href=\"https://colab.research.google.com/github/FairozaAmira/AI_Programming_1_e/blob/master/Lesson13/BinarySearch_solution.ipynb\" target=\"_parent\"><img src=\"https://colab.research.google.com/assets/colab-badge.svg\" alt=\"Open In Colab\"/></a>"
      ]
    },
    {
      "cell_type": "markdown",
      "metadata": {
        "id": "UWPJyKVYhMi1",
        "colab_type": "text"
      },
      "source": [
        "# Solution for Binary Search Exercises"
      ]
    },
    {
      "cell_type": "markdown",
      "metadata": {
        "id": "GwTYUSG_hMi6",
        "colab_type": "text"
      },
      "source": [
        "**Question 1**\n",
        "\n",
        "Define a `LinearSearch` function and try to find a value in the list below.\n",
        "The list of numbers should be in increasing order.\n",
        "```\n",
        "Numbers = [3, 10, 11, 23, 45, 56, 63, 77, 89]\n",
        "test_val1 = 77\n",
        "test_val2 = 48\n",
        "test_val3 = 10\n",
        "```\n",
        "\n",
        "Use `%timeit` function to check how long the program will be."
      ]
    },
    {
      "cell_type": "markdown",
      "metadata": {
        "id": "SxsqhzEvhMi8",
        "colab_type": "text"
      },
      "source": [
        "Solution for this question is referred from https://www.geeksforgeeks.org/python-program-for-linear-search/"
      ]
    },
    {
      "cell_type": "code",
      "metadata": {
        "id": "MNwsWytChMi-",
        "colab_type": "code",
        "outputId": "c75e9c92-5c3c-4b92-ee7d-bdf4210fe71d",
        "colab": {
          "base_uri": "https://localhost:8080/",
          "height": 183
        }
      },
      "source": [
        "def LinearSearch (numbers, value):\n",
        "    for i in range(len(numbers)):\n",
        "        if numbers[i] == value:\n",
        "            return i\n",
        "    return \"not in the list\"\n",
        "\n",
        "Numbers = [3, 10, 11, 23, 45, 56, 63, 77, 89]\n",
        "test_val1 = 77\n",
        "test_val2 = 48\n",
        "test_val3 = 10\n",
        "\n",
        "print(LinearSearch(Numbers, test_val1))\n",
        "%timeit LinearSearch(Numbers, test_val1)\n",
        "\n",
        "print(LinearSearch(Numbers, test_val2))\n",
        "%timeit LinearSearch(Numbers, test_val2)\n",
        "\n",
        "print(LinearSearch(Numbers, test_val3))\n",
        "%timeit LinearSearch(Numbers, test_val3)"
      ],
      "execution_count": 0,
      "outputs": [
        {
          "output_type": "stream",
          "text": [
            "7\n",
            "The slowest run took 101.77 times longer than the fastest. This could mean that an intermediate result is being cached.\n",
            "1000000 loops, best of 3: 671 ns per loop\n",
            "not in the list\n",
            "1000000 loops, best of 3: 696 ns per loop\n",
            "1\n",
            "The slowest run took 5.40 times longer than the fastest. This could mean that an intermediate result is being cached.\n",
            "1000000 loops, best of 3: 413 ns per loop\n"
          ],
          "name": "stdout"
        }
      ]
    },
    {
      "cell_type": "markdown",
      "metadata": {
        "id": "YLmmcL4ChMjK",
        "colab_type": "text"
      },
      "source": [
        "**Question 2**\n",
        "\n",
        "Now, let's try to write `BinarySearch` function and use the same condition as in Question 1. Use `%timeit` function to check how long the program will be."
      ]
    },
    {
      "cell_type": "code",
      "metadata": {
        "id": "u1WnOH4BhMjN",
        "colab_type": "code",
        "outputId": "1e1e81cb-1433-489f-8e53-6e2efb70641f",
        "colab": {
          "base_uri": "https://localhost:8080/",
          "height": 201
        }
      },
      "source": [
        "def BinarySearch(numbers, value):\n",
        "    left = 0\n",
        "    right = len(numbers) - 1\n",
        "    \n",
        "    while (left <= right):\n",
        "        mid = int(left + (right - left) / 2)\n",
        "        if (numbers[mid] == value):\n",
        "            return mid\n",
        "        elif (numbers[mid] < value):\n",
        "            left = mid + 1\n",
        "        else:\n",
        "            right = mid - 1\n",
        "    return \"not in the list\"\n",
        "\n",
        "Numbers = [3, 10, 11, 23, 45, 56, 63, 77, 89]\n",
        "test_val1 = 77\n",
        "test_val2 = 48\n",
        "test_val3 = 10\n",
        "\n",
        "print(BinarySearch(Numbers, test_val1))\n",
        "%timeit BinarySearch(Numbers, test_val1)\n",
        "\n",
        "print(BinarySearch(Numbers, test_val2))\n",
        "%timeit BinarySearch(Numbers, test_val2)\n",
        "\n",
        "print(BinarySearch(Numbers, test_val3))\n",
        "%timeit BinarySearch(Numbers, test_val3)"
      ],
      "execution_count": 0,
      "outputs": [
        {
          "output_type": "stream",
          "text": [
            "7\n",
            "The slowest run took 6.58 times longer than the fastest. This could mean that an intermediate result is being cached.\n",
            "1000000 loops, best of 3: 947 ns per loop\n",
            "not in the list\n",
            "The slowest run took 4.98 times longer than the fastest. This could mean that an intermediate result is being cached.\n",
            "1000000 loops, best of 3: 1.01 µs per loop\n",
            "1\n",
            "The slowest run took 5.70 times longer than the fastest. This could mean that an intermediate result is being cached.\n",
            "1000000 loops, best of 3: 675 ns per loop\n"
          ],
          "name": "stdout"
        }
      ]
    },
    {
      "cell_type": "code",
      "metadata": {
        "id": "-I1EMy6zhMjV",
        "colab_type": "code",
        "colab": {}
      },
      "source": [
        ""
      ],
      "execution_count": 0,
      "outputs": []
    }
  ]
}