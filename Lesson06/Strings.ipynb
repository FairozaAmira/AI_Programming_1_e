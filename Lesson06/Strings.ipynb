{
  "nbformat": 4,
  "nbformat_minor": 0,
  "metadata": {
    "kernelspec": {
      "display_name": "Python 3",
      "language": "python",
      "name": "python3"
    },
    "language_info": {
      "codemirror_mode": {
        "name": "ipython",
        "version": 3
      },
      "file_extension": ".py",
      "mimetype": "text/x-python",
      "name": "python",
      "nbconvert_exporter": "python",
      "pygments_lexer": "ipython3",
      "version": "3.7.3"
    },
    "colab": {
      "name": "Strings.ipynb ",
      "provenance": [],
      "include_colab_link": true
    }
  },
  "cells": [
    {
      "cell_type": "markdown",
      "metadata": {
        "id": "view-in-github",
        "colab_type": "text"
      },
      "source": [
        "<a href=\"https://colab.research.google.com/github/FairozaAmira/AI_Programming_1_e/blob/master/Lesson06/Strings.ipynb\" target=\"_parent\"><img src=\"https://colab.research.google.com/assets/colab-badge.svg\" alt=\"Open In Colab\"/></a>"
      ]
    },
    {
      "cell_type": "markdown",
      "metadata": {
        "id": "ul76u5w5dP3J",
        "colab_type": "text"
      },
      "source": [
        "# Solutions for strings exercises"
      ]
    },
    {
      "cell_type": "markdown",
      "metadata": {
        "id": "W4m_kqykdP3L",
        "colab_type": "text"
      },
      "source": [
        "1. Create a string for a variable “text”. "
      ]
    },
    {
      "cell_type": "code",
      "metadata": {
        "id": "5qvn6OMLdP3N",
        "colab_type": "code",
        "colab": {}
      },
      "source": [
        "text = \"I love Japan\""
      ],
      "execution_count": 0,
      "outputs": []
    },
    {
      "cell_type": "markdown",
      "metadata": {
        "id": "UCVVJSPpdP3Q",
        "colab_type": "text"
      },
      "source": [
        "2. Find the length of “text”."
      ]
    },
    {
      "cell_type": "code",
      "metadata": {
        "id": "n3IYBcqtdP3R",
        "colab_type": "code",
        "outputId": "9e68a432-ca0d-4aa0-fe62-bf9a74140742",
        "colab": {}
      },
      "source": [
        "len(text)"
      ],
      "execution_count": 0,
      "outputs": [
        {
          "output_type": "execute_result",
          "data": {
            "text/plain": [
              "12"
            ]
          },
          "metadata": {
            "tags": []
          },
          "execution_count": 2
        }
      ]
    },
    {
      "cell_type": "markdown",
      "metadata": {
        "id": "TbQYnai9dP3U",
        "colab_type": "text"
      },
      "source": [
        "3. Change the “text” to all upper case letters."
      ]
    },
    {
      "cell_type": "code",
      "metadata": {
        "id": "bUjKnYcwdP3V",
        "colab_type": "code",
        "outputId": "7169f688-b9bd-4776-d2b4-55c9cd87265a",
        "colab": {}
      },
      "source": [
        "text.upper()"
      ],
      "execution_count": 0,
      "outputs": [
        {
          "output_type": "execute_result",
          "data": {
            "text/plain": [
              "'I LOVE JAPAN'"
            ]
          },
          "metadata": {
            "tags": []
          },
          "execution_count": 3
        }
      ]
    },
    {
      "cell_type": "markdown",
      "metadata": {
        "id": "Edrl83IBdP3X",
        "colab_type": "text"
      },
      "source": [
        "4. Capitalize the “text”."
      ]
    },
    {
      "cell_type": "code",
      "metadata": {
        "id": "diHzVXahdP3Y",
        "colab_type": "code",
        "outputId": "9a56931a-a94b-4e88-fd29-18c915513c6b",
        "colab": {}
      },
      "source": [
        "text.capitalize()"
      ],
      "execution_count": 0,
      "outputs": [
        {
          "output_type": "execute_result",
          "data": {
            "text/plain": [
              "'I love japan'"
            ]
          },
          "metadata": {
            "tags": []
          },
          "execution_count": 4
        }
      ]
    },
    {
      "cell_type": "markdown",
      "metadata": {
        "id": "UsOjH9JrdP3a",
        "colab_type": "text"
      },
      "source": [
        "5. Create another string and set it as the variable “text02”. Add “text” with “text02” and turn it into one sentence"
      ]
    },
    {
      "cell_type": "code",
      "metadata": {
        "id": "f254g05wdP3b",
        "colab_type": "code",
        "outputId": "aaa2b898-02ab-4ca0-843f-ee142c61a7af",
        "colab": {}
      },
      "source": [
        "text02 = 'so much'\n",
        "text + text02"
      ],
      "execution_count": 0,
      "outputs": [
        {
          "output_type": "execute_result",
          "data": {
            "text/plain": [
              "'I love Japanso much'"
            ]
          },
          "metadata": {
            "tags": []
          },
          "execution_count": 5
        }
      ]
    },
    {
      "cell_type": "code",
      "metadata": {
        "id": "4T0tfxvJdP3d",
        "colab_type": "code",
        "outputId": "6d59c3c0-64b4-4a81-e717-2864017705c8",
        "colab": {}
      },
      "source": [
        "text + \" \" + text02 + \".\""
      ],
      "execution_count": 0,
      "outputs": [
        {
          "output_type": "execute_result",
          "data": {
            "text/plain": [
              "'I love Japan so much.'"
            ]
          },
          "metadata": {
            "tags": []
          },
          "execution_count": 6
        }
      ]
    },
    {
      "cell_type": "markdown",
      "metadata": {
        "id": "8RQNEwJwdP3g",
        "colab_type": "text"
      },
      "source": [
        "6. Multiply “text” with 5."
      ]
    },
    {
      "cell_type": "code",
      "metadata": {
        "id": "znWMaljxdP3h",
        "colab_type": "code",
        "outputId": "7182ba4b-6f7e-490f-e9c1-9f290d6a45e8",
        "colab": {}
      },
      "source": [
        "text * 5"
      ],
      "execution_count": 0,
      "outputs": [
        {
          "output_type": "execute_result",
          "data": {
            "text/plain": [
              "'I love JapanI love JapanI love JapanI love JapanI love Japan'"
            ]
          },
          "metadata": {
            "tags": []
          },
          "execution_count": 7
        }
      ]
    },
    {
      "cell_type": "markdown",
      "metadata": {
        "id": "GVlrwyj7dP3j",
        "colab_type": "text"
      },
      "source": [
        "7. Access text[0] and text[2]."
      ]
    },
    {
      "cell_type": "code",
      "metadata": {
        "id": "8D5xMu3SdP3j",
        "colab_type": "code",
        "outputId": "5911ccc8-c289-44e0-8971-ed8ee483f94b",
        "colab": {}
      },
      "source": [
        "text[0]"
      ],
      "execution_count": 0,
      "outputs": [
        {
          "output_type": "execute_result",
          "data": {
            "text/plain": [
              "'I'"
            ]
          },
          "metadata": {
            "tags": []
          },
          "execution_count": 8
        }
      ]
    },
    {
      "cell_type": "code",
      "metadata": {
        "id": "xVrW549AdP3m",
        "colab_type": "code",
        "outputId": "c5d09082-1ac0-45ca-97f3-110befdf1886",
        "colab": {}
      },
      "source": [
        "text[2]"
      ],
      "execution_count": 0,
      "outputs": [
        {
          "output_type": "execute_result",
          "data": {
            "text/plain": [
              "'l'"
            ]
          },
          "metadata": {
            "tags": []
          },
          "execution_count": 9
        }
      ]
    }
  ]
}