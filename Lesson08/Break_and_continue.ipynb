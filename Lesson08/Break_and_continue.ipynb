{
  "nbformat": 4,
  "nbformat_minor": 0,
  "metadata": {
    "kernelspec": {
      "display_name": "Python 3",
      "language": "python",
      "name": "python3"
    },
    "language_info": {
      "codemirror_mode": {
        "name": "ipython",
        "version": 3
      },
      "file_extension": ".py",
      "mimetype": "text/x-python",
      "name": "python",
      "nbconvert_exporter": "python",
      "pygments_lexer": "ipython3",
      "version": "3.7.3"
    },
    "colab": {
      "name": "Break and continue.ipynb",
      "provenance": [],
      "collapsed_sections": [],
      "include_colab_link": true
    }
  },
  "cells": [
    {
      "cell_type": "markdown",
      "metadata": {
        "id": "view-in-github",
        "colab_type": "text"
      },
      "source": [
        "<a href=\"https://colab.research.google.com/github/FairozaAmira/AI_Programming_1_e/blob/master/Lesson08/Break_and_continue.ipynb\" target=\"_parent\"><img src=\"https://colab.research.google.com/assets/colab-badge.svg\" alt=\"Open In Colab\"/></a>"
      ]
    },
    {
      "cell_type": "markdown",
      "metadata": {
        "id": "5L9T8j_4NTsK",
        "colab_type": "text"
      },
      "source": [
        "# Solutions for break and continue exercises"
      ]
    },
    {
      "cell_type": "markdown",
      "metadata": {
        "id": "Gm54EzmlNTsO",
        "colab_type": "text"
      },
      "source": [
        "1. Write a string of odd numbers in range of 20, by using `continue`."
      ]
    },
    {
      "cell_type": "code",
      "metadata": {
        "id": "i8rAzvgJNTsQ",
        "colab_type": "code",
        "outputId": "fec6b80c-5ff0-4da2-ac9a-c7ba5591b477",
        "colab": {}
      },
      "source": [
        "for n in range(20):\n",
        "    #if the remainder of n / 2 is 0, skip the rest to the loop.\n",
        "    if n % 2 == 0:\n",
        "        continue\n",
        "    print(n, end=' ')"
      ],
      "execution_count": 0,
      "outputs": [
        {
          "output_type": "stream",
          "text": [
            "1 3 5 7 9 11 13 15 17 19 "
          ],
          "name": "stdout"
        }
      ]
    },
    {
      "cell_type": "markdown",
      "metadata": {
        "id": "9OhFAXz_NTsV",
        "colab_type": "text"
      },
      "source": [
        "2. Write a loop with a `break` statement to create a string, `sentence`, that is exactly 150 characters long. `paragraph = \"Deep learning architectures such as deep neural networks, deep belief networks, recurrent neural networks and convolutional neural networks have been applied to fields including computer vision, speech recognition, natural language processing, audio recognition, social network filtering, machine translation, bioinformatics, drug design, medical image analysis, material inspection and board game programs, where they have produced results comparable to and in some cases superior to human experts.\"`"
      ]
    },
    {
      "cell_type": "code",
      "metadata": {
        "id": "SD6MacXlNTsW",
        "colab_type": "code",
        "outputId": "0069e534-0e85-42f7-cb6c-b3fb368e951d",
        "colab": {}
      },
      "source": [
        "paragraph = \"Deep learning architectures such as deep neural networks, deep belief networks, recurrent neural networks and convolutional neural networks have been applied to fields including computer vision, speech recognition, natural language processing, audio recognition, social network filtering, machine translation, bioinformatics, drug design, medical image analysis, material inspection and board game programs, where they have produced results comparable to and in some cases superior to human experts.\"\n",
        "\n",
        "for p in paragraph:\n",
        "    if len(paragraph) >= 150:\n",
        "        sentence = paragraph[:150]\n",
        "        break\n",
        "print(sentence)"
      ],
      "execution_count": 0,
      "outputs": [
        {
          "output_type": "stream",
          "text": [
            "Deep learning architectures such as deep neural networks, deep belief networks, recurrent neural networks and convolutional neural networks have been \n"
          ],
          "name": "stdout"
        }
      ]
    },
    {
      "cell_type": "code",
      "metadata": {
        "id": "26KdiUIwNTsb",
        "colab_type": "code",
        "colab": {}
      },
      "source": [
        ""
      ],
      "execution_count": 0,
      "outputs": []
    }
  ]
}