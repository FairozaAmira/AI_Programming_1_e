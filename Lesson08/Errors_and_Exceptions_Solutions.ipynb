{
  "nbformat": 4,
  "nbformat_minor": 0,
  "metadata": {
    "kernelspec": {
      "display_name": "Python 3",
      "language": "python",
      "name": "python3"
    },
    "language_info": {
      "codemirror_mode": {
        "name": "ipython",
        "version": 3
      },
      "file_extension": ".py",
      "mimetype": "text/x-python",
      "name": "python",
      "nbconvert_exporter": "python",
      "pygments_lexer": "ipython3",
      "version": "3.7.3"
    },
    "colab": {
      "name": "Errors_and_Exceptions_Solutions.ipynb",
      "provenance": [],
      "collapsed_sections": [],
      "include_colab_link": true
    }
  },
  "cells": [
    {
      "cell_type": "markdown",
      "metadata": {
        "id": "view-in-github",
        "colab_type": "text"
      },
      "source": [
        "<a href=\"https://colab.research.google.com/github/FairozaAmira/AI_Programming_1_e/blob/master/Lesson08/Errors_and_Exceptions_Solutions.ipynb\" target=\"_parent\"><img src=\"https://colab.research.google.com/assets/colab-badge.svg\" alt=\"Open In Colab\"/></a>"
      ]
    },
    {
      "cell_type": "markdown",
      "metadata": {
        "id": "yOXX1UQmNHaw",
        "colab_type": "text"
      },
      "source": [
        "# Solutions for Errors and Exceptions Exercises"
      ]
    },
    {
      "cell_type": "markdown",
      "metadata": {
        "id": "fcpBClPVNHa0",
        "colab_type": "text"
      },
      "source": [
        "**Question 1**\n",
        "\n",
        "What happened if we try to `print` an undefined variable?"
      ]
    },
    {
      "cell_type": "code",
      "metadata": {
        "id": "9I7T3vFMNHa1",
        "colab_type": "code",
        "outputId": "368739b2-626d-45ed-b5c9-13dbc024b0e2",
        "colab": {}
      },
      "source": [
        "print(x)"
      ],
      "execution_count": 0,
      "outputs": [
        {
          "output_type": "error",
          "ename": "NameError",
          "evalue": "name 'x' is not defined",
          "traceback": [
            "\u001b[1;31m---------------------------------------------------------------------------\u001b[0m",
            "\u001b[1;31mNameError\u001b[0m                                 Traceback (most recent call last)",
            "\u001b[1;32m<ipython-input-1-fc17d851ef81>\u001b[0m in \u001b[0;36m<module>\u001b[1;34m\u001b[0m\n\u001b[1;32m----> 1\u001b[1;33m \u001b[0mprint\u001b[0m\u001b[1;33m(\u001b[0m\u001b[0mx\u001b[0m\u001b[1;33m)\u001b[0m\u001b[1;33m\u001b[0m\u001b[1;33m\u001b[0m\u001b[0m\n\u001b[0m",
            "\u001b[1;31mNameError\u001b[0m: name 'x' is not defined"
          ]
        }
      ]
    },
    {
      "cell_type": "markdown",
      "metadata": {
        "id": "92e-Q88VNHa7",
        "colab_type": "text"
      },
      "source": [
        "**Question 2**\n",
        "\n",
        "Or if we try to execute an undefined operation?"
      ]
    },
    {
      "cell_type": "code",
      "metadata": {
        "id": "xjBqinJuNHa8",
        "colab_type": "code",
        "outputId": "142e459f-b27f-4ed2-e408-7f8f1ef60175",
        "colab": {}
      },
      "source": [
        "1 + 'abc'"
      ],
      "execution_count": 0,
      "outputs": [
        {
          "output_type": "error",
          "ename": "TypeError",
          "evalue": "unsupported operand type(s) for +: 'int' and 'str'",
          "traceback": [
            "\u001b[1;31m---------------------------------------------------------------------------\u001b[0m",
            "\u001b[1;31mTypeError\u001b[0m                                 Traceback (most recent call last)",
            "\u001b[1;32m<ipython-input-2-a51a3635a212>\u001b[0m in \u001b[0;36m<module>\u001b[1;34m\u001b[0m\n\u001b[1;32m----> 1\u001b[1;33m \u001b[1;36m1\u001b[0m \u001b[1;33m+\u001b[0m \u001b[1;34m'abc'\u001b[0m\u001b[1;33m\u001b[0m\u001b[1;33m\u001b[0m\u001b[0m\n\u001b[0m",
            "\u001b[1;31mTypeError\u001b[0m: unsupported operand type(s) for +: 'int' and 'str'"
          ]
        }
      ]
    },
    {
      "cell_type": "markdown",
      "metadata": {
        "id": "czEh0xwmNHa_",
        "colab_type": "text"
      },
      "source": [
        "**Question 3**\n",
        "\n",
        "What if we try to access a sequence of element that doesn't exist?"
      ]
    },
    {
      "cell_type": "code",
      "metadata": {
        "id": "Sa24O7pyNHbA",
        "colab_type": "code",
        "outputId": "ceb33194-baf8-41f0-bee5-1dd4feea2962",
        "colab": {}
      },
      "source": [
        "L = [\"a\", \"b\", \"c\"]\n",
        "L[1000]\n"
      ],
      "execution_count": 0,
      "outputs": [
        {
          "output_type": "error",
          "ename": "IndexError",
          "evalue": "list index out of range",
          "traceback": [
            "\u001b[1;31m---------------------------------------------------------------------------\u001b[0m",
            "\u001b[1;31mIndexError\u001b[0m                                Traceback (most recent call last)",
            "\u001b[1;32m<ipython-input-3-1215128e92f1>\u001b[0m in \u001b[0;36m<module>\u001b[1;34m\u001b[0m\n\u001b[0;32m      1\u001b[0m \u001b[0mL\u001b[0m \u001b[1;33m=\u001b[0m \u001b[1;33m[\u001b[0m\u001b[1;34m\"a\"\u001b[0m\u001b[1;33m,\u001b[0m \u001b[1;34m\"b\"\u001b[0m\u001b[1;33m,\u001b[0m \u001b[1;34m\"c\"\u001b[0m\u001b[1;33m]\u001b[0m\u001b[1;33m\u001b[0m\u001b[1;33m\u001b[0m\u001b[0m\n\u001b[1;32m----> 2\u001b[1;33m \u001b[0mL\u001b[0m\u001b[1;33m[\u001b[0m\u001b[1;36m1000\u001b[0m\u001b[1;33m]\u001b[0m\u001b[1;33m\u001b[0m\u001b[1;33m\u001b[0m\u001b[0m\n\u001b[0m",
            "\u001b[1;31mIndexError\u001b[0m: list index out of range"
          ]
        }
      ]
    },
    {
      "cell_type": "code",
      "metadata": {
        "id": "cKPcGUpuNHbC",
        "colab_type": "code",
        "outputId": "1b2abf58-506d-491d-f9a2-c9f45b624c30",
        "colab": {}
      },
      "source": [
        "L = [\"a\", \"b\", \"c\"]\n",
        "L[\"d\"]"
      ],
      "execution_count": 0,
      "outputs": [
        {
          "output_type": "error",
          "ename": "TypeError",
          "evalue": "list indices must be integers or slices, not str",
          "traceback": [
            "\u001b[1;31m---------------------------------------------------------------------------\u001b[0m",
            "\u001b[1;31mTypeError\u001b[0m                                 Traceback (most recent call last)",
            "\u001b[1;32m<ipython-input-1-9f4cc10174e8>\u001b[0m in \u001b[0;36m<module>\u001b[1;34m\u001b[0m\n\u001b[0;32m      1\u001b[0m \u001b[0mL\u001b[0m \u001b[1;33m=\u001b[0m \u001b[1;33m[\u001b[0m\u001b[1;34m\"a\"\u001b[0m\u001b[1;33m,\u001b[0m \u001b[1;34m\"b\"\u001b[0m\u001b[1;33m,\u001b[0m \u001b[1;34m\"c\"\u001b[0m\u001b[1;33m]\u001b[0m\u001b[1;33m\u001b[0m\u001b[1;33m\u001b[0m\u001b[0m\n\u001b[1;32m----> 2\u001b[1;33m \u001b[0mL\u001b[0m\u001b[1;33m[\u001b[0m\u001b[1;34m\"d\"\u001b[0m\u001b[1;33m]\u001b[0m\u001b[1;33m\u001b[0m\u001b[1;33m\u001b[0m\u001b[0m\n\u001b[0m",
            "\u001b[1;31mTypeError\u001b[0m: list indices must be integers or slices, not str"
          ]
        }
      ]
    },
    {
      "cell_type": "markdown",
      "metadata": {
        "id": "bb047QBkNHbF",
        "colab_type": "text"
      },
      "source": [
        "**Question 4**\n",
        "\n",
        "So, it is necessary to catch that errors by using `try` and `except` function.\n",
        "\n",
        "Let's try to execute this function.\n",
        "\n",
        "`try:\n",
        "    print(\"this gets executed first\")\n",
        " except:\n",
        "    print(\"this gets executed only if there is an error\")`"
      ]
    },
    {
      "cell_type": "code",
      "metadata": {
        "id": "uuGbam5NNHbG",
        "colab_type": "code",
        "outputId": "35e70ea3-49aa-4b66-a6e4-b4dd148583a5",
        "colab": {}
      },
      "source": [
        "try:\n",
        "    print(\"this gets executed first\")\n",
        "except:\n",
        "    print(\"this gets executed only if there is an error\")"
      ],
      "execution_count": 0,
      "outputs": [
        {
          "output_type": "stream",
          "text": [
            "this gets executed first\n"
          ],
          "name": "stdout"
        }
      ]
    },
    {
      "cell_type": "markdown",
      "metadata": {
        "id": "i9LXUbXSNHbI",
        "colab_type": "text"
      },
      "source": [
        "**Question 5**\n",
        "\n",
        "What happened if we add \n",
        "`x = 1 /0` at the `try` function?"
      ]
    },
    {
      "cell_type": "code",
      "metadata": {
        "id": "W1qx3D_0NHbJ",
        "colab_type": "code",
        "outputId": "f0d62ce0-ec3e-431a-fa2f-3e905ce3b4c0",
        "colab": {}
      },
      "source": [
        "try:\n",
        "    print(\"let's try something:\")\n",
        "    x = 1 / 0 # ZeroDivisionError\n",
        "except:\n",
        "    print(\"something bad happened!\")"
      ],
      "execution_count": 0,
      "outputs": [
        {
          "output_type": "stream",
          "text": [
            "let's try something:\n",
            "something bad happened!\n"
          ],
          "name": "stdout"
        }
      ]
    },
    {
      "cell_type": "markdown",
      "metadata": {
        "id": "Edn5dNwvNHbL",
        "colab_type": "text"
      },
      "source": [
        "**Question 6**\n",
        "\n",
        "Raise our own exception."
      ]
    },
    {
      "cell_type": "code",
      "metadata": {
        "id": "UG_fJYmcNHbM",
        "colab_type": "code",
        "outputId": "21cab69e-b64b-406b-8777-11546b68cc13",
        "colab": {}
      },
      "source": [
        "raise RuntimeError(\"my error message\")"
      ],
      "execution_count": 0,
      "outputs": [
        {
          "output_type": "error",
          "ename": "RuntimeError",
          "evalue": "my error message",
          "traceback": [
            "\u001b[1;31m---------------------------------------------------------------------------\u001b[0m",
            "\u001b[1;31mRuntimeError\u001b[0m                              Traceback (most recent call last)",
            "\u001b[1;32m<ipython-input-1-b1834d213d3b>\u001b[0m in \u001b[0;36m<module>\u001b[1;34m\u001b[0m\n\u001b[1;32m----> 1\u001b[1;33m \u001b[1;32mraise\u001b[0m \u001b[0mRuntimeError\u001b[0m\u001b[1;33m(\u001b[0m\u001b[1;34m\"my error message\"\u001b[0m\u001b[1;33m)\u001b[0m\u001b[1;33m\u001b[0m\u001b[1;33m\u001b[0m\u001b[0m\n\u001b[0m",
            "\u001b[1;31mRuntimeError\u001b[0m: my error message"
          ]
        }
      ]
    },
    {
      "cell_type": "markdown",
      "metadata": {
        "id": "fXZ3wQcvNHbP",
        "colab_type": "text"
      },
      "source": [
        "**Question 7**\n",
        "\n",
        "Given x = 10, raise an exception if the value of x is not 10."
      ]
    },
    {
      "cell_type": "code",
      "metadata": {
        "id": "UUeDYCATNHbQ",
        "colab_type": "code",
        "outputId": "ea45c260-0d45-4adc-e167-9071bf3396a6",
        "colab": {}
      },
      "source": [
        "x = 10\n",
        "if x > 5:\n",
        "    raise Exception('x should not exceed 5. The value of x was {}'. format(x))"
      ],
      "execution_count": 0,
      "outputs": [
        {
          "output_type": "error",
          "ename": "Exception",
          "evalue": "x should not exceed 5. The value of x was 10",
          "traceback": [
            "\u001b[1;31m---------------------------------------------------------------------------\u001b[0m",
            "\u001b[1;31mException\u001b[0m                                 Traceback (most recent call last)",
            "\u001b[1;32m<ipython-input-2-8ee050b9fe82>\u001b[0m in \u001b[0;36m<module>\u001b[1;34m\u001b[0m\n\u001b[0;32m      1\u001b[0m \u001b[0mx\u001b[0m \u001b[1;33m=\u001b[0m \u001b[1;36m10\u001b[0m\u001b[1;33m\u001b[0m\u001b[1;33m\u001b[0m\u001b[0m\n\u001b[0;32m      2\u001b[0m \u001b[1;32mif\u001b[0m \u001b[0mx\u001b[0m \u001b[1;33m>\u001b[0m \u001b[1;36m5\u001b[0m\u001b[1;33m:\u001b[0m\u001b[1;33m\u001b[0m\u001b[1;33m\u001b[0m\u001b[0m\n\u001b[1;32m----> 3\u001b[1;33m     \u001b[1;32mraise\u001b[0m \u001b[0mException\u001b[0m\u001b[1;33m(\u001b[0m\u001b[1;34m'x should not exceed 5. The value of x was {}'\u001b[0m\u001b[1;33m.\u001b[0m \u001b[0mformat\u001b[0m\u001b[1;33m(\u001b[0m\u001b[0mx\u001b[0m\u001b[1;33m)\u001b[0m\u001b[1;33m)\u001b[0m\u001b[1;33m\u001b[0m\u001b[1;33m\u001b[0m\u001b[0m\n\u001b[0m",
            "\u001b[1;31mException\u001b[0m: x should not exceed 5. The value of x was 10"
          ]
        }
      ]
    },
    {
      "cell_type": "markdown",
      "metadata": {
        "id": "ZJyrEfCoNHbS",
        "colab_type": "text"
      },
      "source": [
        "**Question 8**\n",
        "\n",
        "In addition to `try` and `except`, we can use `else` and `finally` keywords to tune the exceptions. `finally` clause will be really executed no matter what."
      ]
    },
    {
      "cell_type": "code",
      "metadata": {
        "id": "WYnzLIvkNHbT",
        "colab_type": "code",
        "outputId": "280705eb-c65b-4440-83ba-01a77e58a8a2",
        "colab": {}
      },
      "source": [
        "try:\n",
        "    print(\"try something here\")\n",
        "except:\n",
        "    print(\"this happens only if it fails\")\n",
        "else:\n",
        "    print(\"this happens only if it succeeds\")\n",
        "finally:\n",
        "    print(\"this happens no matter what\")"
      ],
      "execution_count": 0,
      "outputs": [
        {
          "output_type": "stream",
          "text": [
            "try something here\n",
            "this happens only if it succeeds\n",
            "this happens no matter what\n"
          ],
          "name": "stdout"
        }
      ]
    },
    {
      "cell_type": "code",
      "metadata": {
        "id": "pw_PLJQxNHbV",
        "colab_type": "code",
        "colab": {}
      },
      "source": [
        ""
      ],
      "execution_count": 0,
      "outputs": []
    }
  ]
}