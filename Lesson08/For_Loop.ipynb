{
  "nbformat": 4,
  "nbformat_minor": 0,
  "metadata": {
    "kernelspec": {
      "display_name": "Python 3",
      "language": "python",
      "name": "python3"
    },
    "language_info": {
      "codemirror_mode": {
        "name": "ipython",
        "version": 3
      },
      "file_extension": ".py",
      "mimetype": "text/x-python",
      "name": "python",
      "nbconvert_exporter": "python",
      "pygments_lexer": "ipython3",
      "version": "3.7.3"
    },
    "colab": {
      "name": "For Loop.ipynb",
      "provenance": [],
      "collapsed_sections": [],
      "include_colab_link": true
    }
  },
  "cells": [
    {
      "cell_type": "markdown",
      "metadata": {
        "id": "view-in-github",
        "colab_type": "text"
      },
      "source": [
        "<a href=\"https://colab.research.google.com/github/FairozaAmira/AI_Programming_1_e/blob/master/Lesson08/For_Loop.ipynb\" target=\"_parent\"><img src=\"https://colab.research.google.com/assets/colab-badge.svg\" alt=\"Open In Colab\"/></a>"
      ]
    },
    {
      "cell_type": "markdown",
      "metadata": {
        "id": "7ABi0MbFHZpW",
        "colab_type": "text"
      },
      "source": [
        "# Solutions for For Loops Exercises"
      ]
    },
    {
      "cell_type": "markdown",
      "metadata": {
        "id": "Py9mS3bjHZpY",
        "colab_type": "text"
      },
      "source": [
        "1. By using for loops, print number 1 to 5."
      ]
    },
    {
      "cell_type": "code",
      "metadata": {
        "id": "t3ZvJpK-HZpZ",
        "colab_type": "code",
        "outputId": "576a23d2-aadf-422c-98dd-84d1fbe80baf",
        "colab": {}
      },
      "source": [
        "for N in [1, 2, 3, 4, 5]:\n",
        "    print(N)"
      ],
      "execution_count": 0,
      "outputs": [
        {
          "output_type": "stream",
          "text": [
            "1\n",
            "2\n",
            "3\n",
            "4\n",
            "5\n"
          ],
          "name": "stdout"
        }
      ]
    },
    {
      "cell_type": "markdown",
      "metadata": {
        "id": "tWXFfDqVHZpe",
        "colab_type": "text"
      },
      "source": [
        "2. Modified the code above to print number 1 to 5 in one line."
      ]
    },
    {
      "cell_type": "code",
      "metadata": {
        "id": "tSEr-p6sHZpf",
        "colab_type": "code",
        "outputId": "a86636f0-5e4c-4681-d987-b87560938a6c",
        "colab": {}
      },
      "source": [
        "for N in [1,2,3,4,5]:\n",
        "    print(N, end=' ')"
      ],
      "execution_count": 0,
      "outputs": [
        {
          "output_type": "stream",
          "text": [
            "1 2 3 4 5 "
          ],
          "name": "stdout"
        }
      ]
    },
    {
      "cell_type": "markdown",
      "metadata": {
        "id": "0QS9wknrHZpj",
        "colab_type": "text"
      },
      "source": [
        "3. Use range to print number 1 to 5 in one line."
      ]
    },
    {
      "cell_type": "code",
      "metadata": {
        "id": "e38zYo6IHZpk",
        "colab_type": "code",
        "outputId": "17ecbf58-23d8-4cdb-f339-324a3bebd280",
        "colab": {}
      },
      "source": [
        "for N in range(1,6):\n",
        "    print(N, end=' ')"
      ],
      "execution_count": 0,
      "outputs": [
        {
          "output_type": "stream",
          "text": [
            "1 2 3 4 5 "
          ],
          "name": "stdout"
        }
      ]
    },
    {
      "cell_type": "markdown",
      "metadata": {
        "id": "XgKtMiy3HZpm",
        "colab_type": "text"
      },
      "source": [
        "Range start by 0 at default. So, the `in range` refers to `in range(start, end, step)`"
      ]
    },
    {
      "cell_type": "markdown",
      "metadata": {
        "id": "oZZqTU6YHZpn",
        "colab_type": "text"
      },
      "source": [
        "4. Set a list with range 1 to 5."
      ]
    },
    {
      "cell_type": "code",
      "metadata": {
        "id": "2xe_NrSVHZpn",
        "colab_type": "code",
        "outputId": "18c0623a-d40e-496c-c6fd-c93a3ae2ceaa",
        "colab": {}
      },
      "source": [
        "list(range(1,6))"
      ],
      "execution_count": 0,
      "outputs": [
        {
          "output_type": "execute_result",
          "data": {
            "text/plain": [
              "[1, 2, 3, 4, 5]"
            ]
          },
          "metadata": {
            "tags": []
          },
          "execution_count": 4
        }
      ]
    },
    {
      "cell_type": "markdown",
      "metadata": {
        "id": "zCAlHsSRHZpq",
        "colab_type": "text"
      },
      "source": [
        "5. Write a for loop for multiples of 3 where N is not less than and equal to 30."
      ]
    },
    {
      "cell_type": "code",
      "metadata": {
        "id": "XA3MxhwHHZpq",
        "colab_type": "code",
        "outputId": "cdb730a2-8e91-461e-ccf1-685a4118613f",
        "colab": {}
      },
      "source": [
        "for N in range(3,31,3):\n",
        "    print(N)"
      ],
      "execution_count": 0,
      "outputs": [
        {
          "output_type": "stream",
          "text": [
            "3\n",
            "6\n",
            "9\n",
            "12\n",
            "15\n",
            "18\n",
            "21\n",
            "24\n",
            "27\n",
            "30\n"
          ],
          "name": "stdout"
        }
      ]
    },
    {
      "cell_type": "markdown",
      "metadata": {
        "id": "yWn-114JHZpt",
        "colab_type": "text"
      },
      "source": [
        "6. Find the sum of number 1 to 5."
      ]
    },
    {
      "cell_type": "code",
      "metadata": {
        "id": "KOsoo8p0HZpu",
        "colab_type": "code",
        "outputId": "2f1f155d-44b6-4a02-e2b4-7d9aa0be1aaa",
        "colab": {}
      },
      "source": [
        "total = 0\n",
        "for N in range(1,6):\n",
        "    total += N\n",
        "print(total)"
      ],
      "execution_count": 0,
      "outputs": [
        {
          "output_type": "stream",
          "text": [
            "15\n"
          ],
          "name": "stdout"
        }
      ]
    },
    {
      "cell_type": "markdown",
      "metadata": {
        "id": "hy8bf6PzHZpw",
        "colab_type": "text"
      },
      "source": [
        "7. Write a for loop that iterates over the `places` list to create a `new_places` list that replace the space with hyphen and in the first letter in capital letter.\n",
        "`places = [\"kamigyo ku\",\"nakagyo ku\", \"sakyo ku\"]`\n",
        "It should create a list\n",
        "`new_places = [\"Kamigyo-ku\",\"Nakagyo-ku\", \"Sakyo-ku\"]`"
      ]
    },
    {
      "cell_type": "code",
      "metadata": {
        "id": "YrF_85VmHZpx",
        "colab_type": "code",
        "outputId": "3f82fdbd-b2c6-448f-ef61-dd8d7eba6aa7",
        "colab": {}
      },
      "source": [
        "places = [\"kamigyo ku\",\"nakagyo ku\", \"sakyo ku\"]\n",
        "new_places = []\n",
        "\n",
        "for place in places:\n",
        "    new_places.append(place.capitalize().replace(\" \",\"-\"))\n",
        "print(new_places)"
      ],
      "execution_count": 0,
      "outputs": [
        {
          "output_type": "stream",
          "text": [
            "['Kamigyo-ku', 'Nakagyo-ku', 'Sakyo-ku']\n"
          ],
          "name": "stdout"
        }
      ]
    },
    {
      "cell_type": "code",
      "metadata": {
        "id": "w0Ck0302HZpz",
        "colab_type": "code",
        "outputId": "9ecdb10b-ddfc-4314-926b-78d666c3b2c1",
        "colab": {}
      },
      "source": [
        "new_places = [\"kamigyo ku\",\"nakagyo ku\", \"sakyo ku\"]\n",
        "\n",
        "for i in range(len(new_places)):\n",
        "    new_places[i] = new_places[i].capitalize().replace(\" \", \"-\")\n",
        "print(new_places)"
      ],
      "execution_count": 0,
      "outputs": [
        {
          "output_type": "stream",
          "text": [
            "['Kamigyo-ku', 'Nakagyo-ku', 'Sakyo-ku']\n"
          ],
          "name": "stdout"
        }
      ]
    },
    {
      "cell_type": "markdown",
      "metadata": {
        "id": "nmkMByX8HZp2",
        "colab_type": "text"
      },
      "source": [
        "8. Calculate the total amount of fruits in the baskets. Given a dictionary of `basket_items = {'apples': 4, 'oranges': 19, 'kites': 3, 'sandwiches': 8}` and list `fruits = ['apples', 'oranges', 'pears', 'peaches', 'grapes', 'bananas']`. "
      ]
    },
    {
      "cell_type": "code",
      "metadata": {
        "id": "qv8FIWpjHZp3",
        "colab_type": "code",
        "outputId": "e217ae3e-f206-46cb-be4c-becbfb257505",
        "colab": {}
      },
      "source": [
        "total = 0\n",
        "basket_items = {'apples': 4, 'oranges': 19, 'kites': 3, 'sandwiches': 8}\n",
        "fruits = ['apples', 'oranges', 'pears', 'peaches', 'grapes', 'bananas']\n",
        "\n",
        "for object, calculate in basket_items.items():\n",
        "    if object in fruits:\n",
        "        total += calculate\n",
        "\n",
        "print(\"There are {} fruits in the basket.\".format(total))\n"
      ],
      "execution_count": 0,
      "outputs": [
        {
          "output_type": "stream",
          "text": [
            "There are 23 fruits in the basket.\n"
          ],
          "name": "stdout"
        }
      ]
    },
    {
      "cell_type": "markdown",
      "metadata": {
        "id": "ix8-QS-9HZp5",
        "colab_type": "text"
      },
      "source": [
        "9. Calculate how many items are not fruits in the basket."
      ]
    },
    {
      "cell_type": "code",
      "metadata": {
        "id": "ILNzKjgVHZp6",
        "colab_type": "code",
        "outputId": "609349bc-8b05-48ec-a6f3-388e73250c0e",
        "colab": {}
      },
      "source": [
        "total = 0\n",
        "for object, calculate in basket_items.items():\n",
        "    if object not in fruits:\n",
        "        total += calculate\n",
        "\n",
        "print(\"There are {} of other items in the basket.\".format(total))"
      ],
      "execution_count": 0,
      "outputs": [
        {
          "output_type": "stream",
          "text": [
            "There are 11 of other items in the basket.\n"
          ],
          "name": "stdout"
        }
      ]
    },
    {
      "cell_type": "code",
      "metadata": {
        "id": "6tV_ckoAHZp8",
        "colab_type": "code",
        "colab": {}
      },
      "source": [
        ""
      ],
      "execution_count": 0,
      "outputs": []
    }
  ]
}