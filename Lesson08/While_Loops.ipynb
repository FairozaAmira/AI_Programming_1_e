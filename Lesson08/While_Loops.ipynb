{
  "nbformat": 4,
  "nbformat_minor": 0,
  "metadata": {
    "kernelspec": {
      "display_name": "Python 3",
      "language": "python",
      "name": "python3"
    },
    "language_info": {
      "codemirror_mode": {
        "name": "ipython",
        "version": 3
      },
      "file_extension": ".py",
      "mimetype": "text/x-python",
      "name": "python",
      "nbconvert_exporter": "python",
      "pygments_lexer": "ipython3",
      "version": "3.7.3"
    },
    "colab": {
      "name": "While Loops.ipynb",
      "provenance": [],
      "collapsed_sections": [],
      "include_colab_link": true
    }
  },
  "cells": [
    {
      "cell_type": "markdown",
      "metadata": {
        "id": "view-in-github",
        "colab_type": "text"
      },
      "source": [
        "<a href=\"https://colab.research.google.com/github/FairozaAmira/AI_Programming_1_e/blob/master/Lesson08/While_Loops.ipynb\" target=\"_parent\"><img src=\"https://colab.research.google.com/assets/colab-badge.svg\" alt=\"Open In Colab\"/></a>"
      ]
    },
    {
      "cell_type": "markdown",
      "metadata": {
        "id": "uSbnvMc0Mais",
        "colab_type": "text"
      },
      "source": [
        "# Solutions for While Loops Exercises"
      ]
    },
    {
      "cell_type": "markdown",
      "metadata": {
        "id": "ivbiGqdvMaiv",
        "colab_type": "text"
      },
      "source": [
        "1. Print number 1 to 10 by using while loop. Write the same for loop and compares both of them."
      ]
    },
    {
      "cell_type": "code",
      "metadata": {
        "id": "gYtZww-AMaiw",
        "colab_type": "code",
        "outputId": "41cfb386-e20a-415a-ab71-c5254c36197d",
        "colab": {}
      },
      "source": [
        "i = 1 #initialization\n",
        "while i < 11: #last item\n",
        "    print(i)\n",
        "    i += 1 #step"
      ],
      "execution_count": 0,
      "outputs": [
        {
          "output_type": "stream",
          "text": [
            "1\n",
            "2\n",
            "3\n",
            "4\n",
            "5\n",
            "6\n",
            "7\n",
            "8\n",
            "9\n",
            "10\n"
          ],
          "name": "stdout"
        }
      ]
    },
    {
      "cell_type": "code",
      "metadata": {
        "id": "9F82JN2DMai1",
        "colab_type": "code",
        "outputId": "4e24c67b-b0fb-4ee9-dce3-d45f0b5e5b22",
        "colab": {}
      },
      "source": [
        "for i in range(1,11):\n",
        "    print(i)"
      ],
      "execution_count": 0,
      "outputs": [
        {
          "output_type": "stream",
          "text": [
            "1\n",
            "2\n",
            "3\n",
            "4\n",
            "5\n",
            "6\n",
            "7\n",
            "8\n",
            "9\n",
            "10\n"
          ],
          "name": "stdout"
        }
      ]
    },
    {
      "cell_type": "markdown",
      "metadata": {
        "id": "vOFvrwB_Mai4",
        "colab_type": "text"
      },
      "source": [
        "2. Calculate sum of 1 to 10 by using while and for loop."
      ]
    },
    {
      "cell_type": "code",
      "metadata": {
        "id": "4yqUPf_8Mai4",
        "colab_type": "code",
        "outputId": "58eaf758-5ec8-4029-b391-a9aab7c2c71f",
        "colab": {}
      },
      "source": [
        "total = 0\n",
        "i = 1\n",
        "while i <= 10:\n",
        "    total += i \n",
        "    i += 1\n",
        "    \n",
        "print(total)"
      ],
      "execution_count": 0,
      "outputs": [
        {
          "output_type": "stream",
          "text": [
            "55\n"
          ],
          "name": "stdout"
        }
      ]
    },
    {
      "cell_type": "code",
      "metadata": {
        "id": "_rDrqlg9Mai7",
        "colab_type": "code",
        "outputId": "ce8c9c23-c9ad-455e-e247-67e45468eaf1",
        "colab": {}
      },
      "source": [
        "total = 0\n",
        "for i in range(1,11):\n",
        "    total += i\n",
        "print(total)"
      ],
      "execution_count": 0,
      "outputs": [
        {
          "output_type": "stream",
          "text": [
            "55\n"
          ],
          "name": "stdout"
        }
      ]
    },
    {
      "cell_type": "markdown",
      "metadata": {
        "id": "nROKsxHpMai9",
        "colab_type": "text"
      },
      "source": [
        "3. Find the nearest square for a number with a limit number 50 by using while loop. The nearest square for 50 should be 49."
      ]
    },
    {
      "cell_type": "code",
      "metadata": {
        "id": "uS04wIV5Mai-",
        "colab_type": "code",
        "outputId": "6664d3ef-969b-47a9-c90c-b8f7ccf1b664",
        "colab": {}
      },
      "source": [
        "limit = 50\n",
        "\n",
        "num = 0\n",
        "while (num+1)**2 < limit:\n",
        "    num += 1\n",
        "nearest_square = num ** 2\n",
        "print(nearest_square)"
      ],
      "execution_count": 0,
      "outputs": [
        {
          "output_type": "stream",
          "text": [
            "49\n"
          ],
          "name": "stdout"
        }
      ]
    },
    {
      "cell_type": "code",
      "metadata": {
        "id": "GrVNKQJSMajA",
        "colab_type": "code",
        "colab": {}
      },
      "source": [
        ""
      ],
      "execution_count": 0,
      "outputs": []
    }
  ]
}