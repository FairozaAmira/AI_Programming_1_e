{
  "nbformat": 4,
  "nbformat_minor": 0,
  "metadata": {
    "colab": {
      "name": "Lecture02_e.ipynb",
      "provenance": [],
      "collapsed_sections": []
    },
    "kernelspec": {
      "name": "python3",
      "display_name": "Python 3"
    }
  },
  "cells": [
    {
      "cell_type": "markdown",
      "metadata": {
        "id": "Yp131Bns5MtD",
        "colab_type": "text"
      },
      "source": [
        "# My First Notebook\n",
        "\n",
        "**Let's write some codes!**"
      ]
    },
    {
      "cell_type": "code",
      "metadata": {
        "id": "6HInYiea5Dic",
        "colab_type": "code",
        "outputId": "27c51918-66c3-4ac6-f7ca-f2ed0ff039f9",
        "colab": {
          "base_uri": "https://localhost:8080/",
          "height": 33
        }
      },
      "source": [
        "#calculate\n",
        "\n",
        "2*(3+4)"
      ],
      "execution_count": 0,
      "outputs": [
        {
          "output_type": "execute_result",
          "data": {
            "text/plain": [
              "14"
            ]
          },
          "metadata": {
            "tags": []
          },
          "execution_count": 1
        }
      ]
    },
    {
      "cell_type": "markdown",
      "metadata": {
        "id": "f0wjzdjd5fbm",
        "colab_type": "text"
      },
      "source": [
        "*Display something*\n",
        "\n",
        "\n",
        "\n",
        "```\n",
        "First value: 1\n",
        "```\n",
        "\n"
      ]
    },
    {
      "cell_type": "code",
      "metadata": {
        "id": "x3e390hC5mNO",
        "colab_type": "code",
        "outputId": "982afd95-c169-4828-9a3e-6ee7cef55c34",
        "colab": {
          "base_uri": "https://localhost:8080/",
          "height": 35
        }
      },
      "source": [
        "''' \n",
        "Print a value\n",
        "'''\n",
        "\n",
        "print('First value: ', 1)"
      ],
      "execution_count": 0,
      "outputs": [
        {
          "output_type": "stream",
          "text": [
            "First value:  1\n"
          ],
          "name": "stdout"
        }
      ]
    },
    {
      "cell_type": "markdown",
      "metadata": {
        "id": "RqM93BLQ5sjU",
        "colab_type": "text"
      },
      "source": [
        "**Calling a function `sort`**\n",
        "\n",
        "\n",
        "1.   Make a list of \n",
        "\n",
        "\n",
        "```\n",
        "Numbers = [4,3,2,1]\n",
        "```\n",
        "\n",
        "2.   Use the function `sort()` to sort the Numbers.\n",
        "\n",
        "3.   Display by using `print`"
      ]
    },
    {
      "cell_type": "code",
      "metadata": {
        "id": "q60YDo1A5wB9",
        "colab_type": "code",
        "outputId": "9cd9057a-092a-4031-b2ad-98abefd22d9b",
        "colab": {
          "base_uri": "https://localhost:8080/",
          "height": 33
        }
      },
      "source": [
        "Numbers = [4,3,2,1]\n",
        "Numbers.sort()\n",
        "print(Numbers)"
      ],
      "execution_count": 0,
      "outputs": [
        {
          "output_type": "stream",
          "text": [
            "[1, 2, 3, 4]\n"
          ],
          "name": "stdout"
        }
      ]
    }
  ]
}