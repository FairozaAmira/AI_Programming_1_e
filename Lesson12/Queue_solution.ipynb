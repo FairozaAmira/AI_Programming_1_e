{
  "nbformat": 4,
  "nbformat_minor": 0,
  "metadata": {
    "kernelspec": {
      "display_name": "Python 3",
      "language": "python",
      "name": "python3"
    },
    "language_info": {
      "codemirror_mode": {
        "name": "ipython",
        "version": 3
      },
      "file_extension": ".py",
      "mimetype": "text/x-python",
      "name": "python",
      "nbconvert_exporter": "python",
      "pygments_lexer": "ipython3",
      "version": "3.7.3"
    },
    "colab": {
      "name": "Queue_solution.ipynb",
      "provenance": [],
      "collapsed_sections": [],
      "include_colab_link": true
    }
  },
  "cells": [
    {
      "cell_type": "markdown",
      "metadata": {
        "id": "view-in-github",
        "colab_type": "text"
      },
      "source": [
        "<a href=\"https://colab.research.google.com/github/FairozaAmira/AI_Programming_1_e/blob/master/Lesson12/Queue_solution.ipynb\" target=\"_parent\"><img src=\"https://colab.research.google.com/assets/colab-badge.svg\" alt=\"Open In Colab\"/></a>"
      ]
    },
    {
      "cell_type": "markdown",
      "metadata": {
        "id": "_Fcm6YWWgWfP",
        "colab_type": "text"
      },
      "source": [
        "# Solutions for Queue Exercises"
      ]
    },
    {
      "cell_type": "markdown",
      "metadata": {
        "id": "hX0JUqr7gWfR",
        "colab_type": "text"
      },
      "source": [
        "Let's try to make a class of Queue by using `append` and `pop` method.\n",
        "\n",
        "This solution is referred from Udacity Data and Algorithms with Python course.\n",
        "\n",
        "1. Initialize the Queue class\n",
        "2. Create the enqueue function by using `append`.\n",
        "3. Create a dequeue function by using `pop`.\n",
        "4. Create a peek function to see what is the first item in the storage(item).\n"
      ]
    },
    {
      "cell_type": "code",
      "metadata": {
        "id": "NXWqfqcxgWfT",
        "colab_type": "code",
        "colab": {}
      },
      "source": [
        "class Queue():\n",
        "    def __init__(self, head=None):\n",
        "        self.storage = [head]\n",
        "\n",
        "    def enqueue(self, new_element):\n",
        "        self.storage.append(new_element)\n",
        "\n",
        "    def peek(self):\n",
        "        return self.storage[0]\n",
        "\n",
        "    def dequeue(self):\n",
        "        return self.storage.pop(0)"
      ],
      "execution_count": 0,
      "outputs": []
    },
    {
      "cell_type": "code",
      "metadata": {
        "id": "hvYSSBtNgWfX",
        "colab_type": "code",
        "outputId": "57e4df59-fb0a-4930-bc53-756e4d2b6b25",
        "colab": {}
      },
      "source": [
        "# Setup\n",
        "q = Queue(1)\n",
        "q.enqueue(2)\n",
        "q.enqueue(3)\n",
        "\n",
        "# Test peek\n",
        "# Should be 1\n",
        "print (q.peek())\n",
        "\n",
        "# Test dequeue\n",
        "# Should be 1\n",
        "print (q.dequeue())\n",
        "\n",
        "# Test enqueue\n",
        "q.enqueue(4)\n",
        "# Should be 2\n",
        "print (q.dequeue())\n",
        "# Should be 3\n",
        "print (q.dequeue())\n",
        "# Should be 4\n",
        "print (q.dequeue())\n",
        "q.enqueue(5)\n",
        "# Should be 5\n",
        "print (q.peek())"
      ],
      "execution_count": 0,
      "outputs": [
        {
          "output_type": "stream",
          "text": [
            "1\n",
            "1\n",
            "2\n",
            "3\n",
            "4\n",
            "5\n"
          ],
          "name": "stdout"
        }
      ]
    },
    {
      "cell_type": "markdown",
      "metadata": {
        "id": "iY4XNYUPgWfc",
        "colab_type": "text"
      },
      "source": [
        "Now, let's try to use `collections.deque` and `popleft` library to implement the Queue algorithm.\n",
        "\n",
        "Solution is referred from https://www.geeksforgeeks.org/using-list-stack-queues-python/"
      ]
    },
    {
      "cell_type": "code",
      "metadata": {
        "id": "z8m0oUShgWfd",
        "colab_type": "code",
        "outputId": "1f55346d-fa72-424a-c480-cef64906fb05",
        "colab": {}
      },
      "source": [
        "from collections import deque\n",
        "queue = deque ([\"1\", \"2\", \"3\", \"4\"])\n",
        "print(queue)\n",
        "queue.append(\"5\")\n",
        "print(queue)\n",
        "queue.append(\"6\")\n",
        "print(queue)\n",
        "print(queue.popleft())\n",
        "print(queue.popleft())\n",
        "print(queue)"
      ],
      "execution_count": 0,
      "outputs": [
        {
          "output_type": "stream",
          "text": [
            "deque(['1', '2', '3', '4'])\n",
            "deque(['1', '2', '3', '4', '5'])\n",
            "deque(['1', '2', '3', '4', '5', '6'])\n",
            "1\n",
            "2\n",
            "deque(['3', '4', '5', '6'])\n"
          ],
          "name": "stdout"
        }
      ]
    },
    {
      "cell_type": "code",
      "metadata": {
        "id": "tl1RjvaOgWfg",
        "colab_type": "code",
        "colab": {}
      },
      "source": [
        ""
      ],
      "execution_count": 0,
      "outputs": []
    }
  ]
}