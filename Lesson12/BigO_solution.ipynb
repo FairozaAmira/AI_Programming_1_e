{
  "nbformat": 4,
  "nbformat_minor": 0,
  "metadata": {
    "kernelspec": {
      "display_name": "Python 3",
      "language": "python",
      "name": "python3"
    },
    "language_info": {
      "codemirror_mode": {
        "name": "ipython",
        "version": 3
      },
      "file_extension": ".py",
      "mimetype": "text/x-python",
      "name": "python",
      "nbconvert_exporter": "python",
      "pygments_lexer": "ipython3",
      "version": "3.7.3"
    },
    "colab": {
      "name": "BigO_solution.ipynb",
      "provenance": [],
      "collapsed_sections": [],
      "include_colab_link": true
    }
  },
  "cells": [
    {
      "cell_type": "markdown",
      "metadata": {
        "id": "view-in-github",
        "colab_type": "text"
      },
      "source": [
        "<a href=\"https://colab.research.google.com/github/FairozaAmira/AI_Programming_1_e/blob/master/Lesson12/BigO_solution.ipynb\" target=\"_parent\"><img src=\"https://colab.research.google.com/assets/colab-badge.svg\" alt=\"Open In Colab\"/></a>"
      ]
    },
    {
      "cell_type": "markdown",
      "metadata": {
        "id": "X-47D4lxgB8f",
        "colab_type": "text"
      },
      "source": [
        "# Solution for Big O Notation exercises"
      ]
    },
    {
      "cell_type": "markdown",
      "metadata": {
        "id": "QkiPy5FdgB8k",
        "colab_type": "text"
      },
      "source": [
        "**Question 1**\n",
        "\n",
        "Design an algorithm that calculates the factorial of a number , 1) By using for loop, 2) By using if-else statement. Then, calculate the time needed to run the program.\n",
        "\n",
        "for example, \n",
        "$4! = 4 \\times 3 \\times 2 \\times 1 = 24 $\n",
        "\n",
        "Which algorithm is the fastest one? \n",
        "\n",
        "*Source: https://stackabuse.com/big-o-notation-and-algorithm-analysis-with-python-examples/*"
      ]
    },
    {
      "cell_type": "code",
      "metadata": {
        "id": "kZSGLA4sgB8m",
        "colab_type": "code",
        "outputId": "06d91c03-a5c8-4bdb-cbd4-15d66918f301",
        "colab": {}
      },
      "source": [
        "#By using for-loop\n",
        "\n",
        "def fact(n):\n",
        "    product = 1\n",
        "    for i in range(n):\n",
        "        product = product * (i+1)\n",
        "    return product\n",
        "\n",
        "print(fact(4))\n",
        "%timeit fact(4)\n",
        "%timeit fact(50)"
      ],
      "execution_count": 0,
      "outputs": [
        {
          "output_type": "stream",
          "text": [
            "24\n",
            "1.3 µs ± 94.7 ns per loop (mean ± std. dev. of 7 runs, 1000000 loops each)\n",
            "9.35 µs ± 166 ns per loop (mean ± std. dev. of 7 runs, 100000 loops each)\n"
          ],
          "name": "stdout"
        }
      ]
    },
    {
      "cell_type": "code",
      "metadata": {
        "id": "cpLQwLJ9gB8w",
        "colab_type": "code",
        "outputId": "e667709f-8336-4546-e52a-58399a224eee",
        "colab": {}
      },
      "source": [
        "#By using if-else statement\n",
        "\n",
        "def fact2 (n):\n",
        "    if n == 0:\n",
        "        return 1\n",
        "    else:\n",
        "        return n * fact2(n-1)\n",
        "\n",
        "print(fact2(4))\n",
        "%timeit fact2(4)\n",
        "%timeit fact2(50)"
      ],
      "execution_count": 0,
      "outputs": [
        {
          "output_type": "stream",
          "text": [
            "24\n",
            "1.28 µs ± 25.1 ns per loop (mean ± std. dev. of 7 runs, 1000000 loops each)\n",
            "16.6 µs ± 638 ns per loop (mean ± std. dev. of 7 runs, 100000 loops each)\n"
          ],
          "name": "stdout"
        }
      ]
    },
    {
      "cell_type": "code",
      "metadata": {
        "id": "PKqWH98kgB8z",
        "colab_type": "code",
        "colab": {}
      },
      "source": [
        ""
      ],
      "execution_count": 0,
      "outputs": []
    }
  ]
}