{
  "nbformat": 4,
  "nbformat_minor": 0,
  "metadata": {
    "kernelspec": {
      "display_name": "Python 3",
      "language": "python",
      "name": "python3"
    },
    "language_info": {
      "codemirror_mode": {
        "name": "ipython",
        "version": 3
      },
      "file_extension": ".py",
      "mimetype": "text/x-python",
      "name": "python",
      "nbconvert_exporter": "python",
      "pygments_lexer": "ipython3",
      "version": "3.7.3"
    },
    "colab": {
      "name": "Stack_solution.ipynb",
      "provenance": [],
      "include_colab_link": true
    }
  },
  "cells": [
    {
      "cell_type": "markdown",
      "metadata": {
        "id": "view-in-github",
        "colab_type": "text"
      },
      "source": [
        "<a href=\"https://colab.research.google.com/github/FairozaAmira/AI_Programming_1_e/blob/master/Lesson12/Stack_solution.ipynb\" target=\"_parent\"><img src=\"https://colab.research.google.com/assets/colab-badge.svg\" alt=\"Open In Colab\"/></a>"
      ]
    },
    {
      "cell_type": "markdown",
      "metadata": {
        "id": "r1yVpkIcgMMz",
        "colab_type": "text"
      },
      "source": [
        "# Solutions for Stack Exercises"
      ]
    },
    {
      "cell_type": "markdown",
      "metadata": {
        "id": "t2BHsUOrgMM0",
        "colab_type": "text"
      },
      "source": [
        "Let's try to build the stack class, by utilizing the `pop`and `append` (push) function."
      ]
    },
    {
      "cell_type": "markdown",
      "metadata": {
        "id": "eTb4sMjIgMM4",
        "colab_type": "text"
      },
      "source": [
        "This solution is referred from https://www.sanfoundry.com/python-program-implement-stack/ and https://www.dummies.com/programming/python/how-to-create-stacks-using-lists-in-python/\n",
        "\n",
        "Solution:\n",
        "\n",
        "1. Create a class Stack with instance variable items initialized to an empty list.\n",
        "2. Define methods push, pop and is_empty inside the class Stack.\n",
        "3. The method push appends data to items.\n",
        "4. The method pop pops the first element in items.\n",
        "5. The method is_empty returns True only if items is empty.\n",
        "6. Create an instance of Stack and present a menu to the user to perform operations on the stack.\n"
      ]
    },
    {
      "cell_type": "code",
      "metadata": {
        "id": "uqUuiDYpgMM6",
        "colab_type": "code",
        "outputId": "e22550c4-31fe-44e4-cda9-f11a02222ac5",
        "colab": {}
      },
      "source": [
        "class Stack:\n",
        "    def __init__(self):\n",
        "        self.items = []\n",
        " \n",
        "    def is_empty(self):\n",
        "        return self.items == []\n",
        " \n",
        "    def push(self, data):\n",
        "        self.items.append(data)\n",
        " \n",
        "    def pop(self):\n",
        "        return self.items.pop()\n",
        " \n",
        " \n",
        "s = Stack()\n",
        "while True:\n",
        "    print('push <value>')\n",
        "    print('pop')\n",
        "    print('quit')\n",
        "    do = input('What would you like to do? ').split()\n",
        " \n",
        "    operation = do[0].strip().lower()\n",
        "    if operation == 'push':\n",
        "        s.push(int(do[1]))\n",
        "    elif operation == 'pop':\n",
        "        if s.is_empty():\n",
        "            print('Stack is empty.')\n",
        "        else:\n",
        "            print('Popped value: ', s.pop())\n",
        "    elif operation == 'quit':\n",
        "        break"
      ],
      "execution_count": 0,
      "outputs": [
        {
          "output_type": "stream",
          "text": [
            "push <value>\n",
            "pop\n",
            "quit\n",
            "What would you like to do? push 5\n",
            "push <value>\n",
            "pop\n",
            "quit\n",
            "What would you like to do? pop\n",
            "Popped value:  5\n",
            "push <value>\n",
            "pop\n",
            "quit\n",
            "What would you like to do? quit\n"
          ],
          "name": "stdout"
        }
      ]
    },
    {
      "cell_type": "markdown",
      "metadata": {
        "collapsed": true,
        "id": "9-OeGIBhgMM-",
        "colab_type": "text"
      },
      "source": [
        "Let's try building the stack by using BUILT-IN function in Python\n",
        "Just use the stack like a list, then use append and pop function."
      ]
    },
    {
      "cell_type": "code",
      "metadata": {
        "id": "yMnoEiTYgMNA",
        "colab_type": "code",
        "outputId": "f2fd2e6a-3d5a-488f-8f76-546af54bd4a0",
        "colab": {}
      },
      "source": [
        "stack = [\"1\", \"2\", \"3\"]\n",
        "stack.append(\"4\")\n",
        "print(stack)\n",
        "print(stack.pop())\n",
        "stack.append(\"5\")\n",
        "print(stack)\n",
        "print(stack.pop())"
      ],
      "execution_count": 0,
      "outputs": [
        {
          "output_type": "stream",
          "text": [
            "['1', '2', '3', '4']\n",
            "4\n",
            "['1', '2', '3', '5']\n",
            "5\n"
          ],
          "name": "stdout"
        }
      ]
    },
    {
      "cell_type": "code",
      "metadata": {
        "id": "7I8sF8vygMND",
        "colab_type": "code",
        "colab": {}
      },
      "source": [
        ""
      ],
      "execution_count": 0,
      "outputs": []
    }
  ]
}