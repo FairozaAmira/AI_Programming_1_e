{
  "nbformat": 4,
  "nbformat_minor": 0,
  "metadata": {
    "kernelspec": {
      "display_name": "Python 3",
      "language": "python",
      "name": "python3"
    },
    "language_info": {
      "codemirror_mode": {
        "name": "ipython",
        "version": 3
      },
      "file_extension": ".py",
      "mimetype": "text/x-python",
      "name": "python",
      "nbconvert_exporter": "python",
      "pygments_lexer": "ipython3",
      "version": "3.7.3"
    },
    "colab": {
      "name": "List_comprehension_solutions.ipynb",
      "provenance": [],
      "collapsed_sections": [],
      "include_colab_link": true
    }
  },
  "cells": [
    {
      "cell_type": "markdown",
      "metadata": {
        "id": "view-in-github",
        "colab_type": "text"
      },
      "source": [
        "<a href=\"https://colab.research.google.com/github/FairozaAmira/AI_Programming_1_e/blob/master/Lesson10/List_comprehension_solutions.ipynb\" target=\"_parent\"><img src=\"https://colab.research.google.com/assets/colab-badge.svg\" alt=\"Open In Colab\"/></a>"
      ]
    },
    {
      "cell_type": "markdown",
      "metadata": {
        "id": "DQeiMl8-CE2B",
        "colab_type": "text"
      },
      "source": [
        "# Solutions for List Comprehensions"
      ]
    },
    {
      "cell_type": "markdown",
      "metadata": {
        "id": "gnEsPjL3CE2C",
        "colab_type": "text"
      },
      "source": [
        "**Question 1**\n",
        "\n",
        "Create a list by using a for loop that has even numbers between 1 to 200."
      ]
    },
    {
      "cell_type": "code",
      "metadata": {
        "id": "vtfS6qLPCE2D",
        "colab_type": "code",
        "outputId": "908079a2-e6e2-4ee5-b095-b5ff892cbb31",
        "colab": {}
      },
      "source": [
        "numbers = []\n",
        "for number in range(1,200):\n",
        "    if number % 2 == 0:\n",
        "        numbers.append(number)\n",
        "print(numbers)"
      ],
      "execution_count": 0,
      "outputs": [
        {
          "output_type": "stream",
          "text": [
            "[2, 4, 6, 8, 10, 12, 14, 16, 18, 20, 22, 24, 26, 28, 30, 32, 34, 36, 38, 40, 42, 44, 46, 48, 50, 52, 54, 56, 58, 60, 62, 64, 66, 68, 70, 72, 74, 76, 78, 80, 82, 84, 86, 88, 90, 92, 94, 96, 98, 100, 102, 104, 106, 108, 110, 112, 114, 116, 118, 120, 122, 124, 126, 128, 130, 132, 134, 136, 138, 140, 142, 144, 146, 148, 150, 152, 154, 156, 158, 160, 162, 164, 166, 168, 170, 172, 174, 176, 178, 180, 182, 184, 186, 188, 190, 192, 194, 196, 198]\n"
          ],
          "name": "stdout"
        }
      ]
    },
    {
      "cell_type": "markdown",
      "metadata": {
        "id": "Bu1G54rfCE2H",
        "colab_type": "text"
      },
      "source": [
        "**Question 2**\n",
        "\n",
        "Use *list comprehension* method to display the same results as for loop above."
      ]
    },
    {
      "cell_type": "code",
      "metadata": {
        "id": "6gnOy1jPCE2I",
        "colab_type": "code",
        "outputId": "494a9503-8723-4ee9-8043-9d47a3c18a79",
        "colab": {}
      },
      "source": [
        "numbers = [number for number in range(1,200) if number % 2 == 0]\n",
        "print(numbers)"
      ],
      "execution_count": 0,
      "outputs": [
        {
          "output_type": "stream",
          "text": [
            "[2, 4, 6, 8, 10, 12, 14, 16, 18, 20, 22, 24, 26, 28, 30, 32, 34, 36, 38, 40, 42, 44, 46, 48, 50, 52, 54, 56, 58, 60, 62, 64, 66, 68, 70, 72, 74, 76, 78, 80, 82, 84, 86, 88, 90, 92, 94, 96, 98, 100, 102, 104, 106, 108, 110, 112, 114, 116, 118, 120, 122, 124, 126, 128, 130, 132, 134, 136, 138, 140, 142, 144, 146, 148, 150, 152, 154, 156, 158, 160, 162, 164, 166, 168, 170, 172, 174, 176, 178, 180, 182, 184, 186, 188, 190, 192, 194, 196, 198]\n"
          ],
          "name": "stdout"
        }
      ]
    },
    {
      "cell_type": "markdown",
      "metadata": {
        "id": "e0NP8r-_CE2L",
        "colab_type": "text"
      },
      "source": [
        "**Question 3**\n",
        "\n",
        "Create a list of two values that shows a result as below by using list comprehension method.\n",
        "\n",
        "`[(0,0), (0,1), (1,0), (1,1)]`"
      ]
    },
    {
      "cell_type": "code",
      "metadata": {
        "id": "YhZtuqsXCE2M",
        "colab_type": "code",
        "outputId": "b26ebb59-e89c-4aee-d664-7d492dfa034f",
        "colab": {}
      },
      "source": [
        "L = [(i,j) for i in range(2) for j in range(2)]\n",
        "print(L)"
      ],
      "execution_count": 0,
      "outputs": [
        {
          "output_type": "stream",
          "text": [
            "[(0, 0), (0, 1), (1, 0), (1, 1)]\n"
          ],
          "name": "stdout"
        }
      ]
    },
    {
      "cell_type": "markdown",
      "metadata": {
        "id": "K577BhKYCE2P",
        "colab_type": "text"
      },
      "source": [
        "**Question 4**\n",
        "\n",
        "Write a list comprehension which set a condition for the value needed.\n",
        "The result should display a set comprehension of\n",
        "\n",
        "$n = n ^ 2$, where $ n = 1,..., 10$"
      ]
    },
    {
      "cell_type": "code",
      "metadata": {
        "id": "zk8qPD-5CE2Q",
        "colab_type": "code",
        "outputId": "5b849316-fb80-4e45-9654-4ea19968c4bf",
        "colab": {}
      },
      "source": [
        "squares = [n ** 2 for n in range(11)]\n",
        "print(squares)"
      ],
      "execution_count": 0,
      "outputs": [
        {
          "output_type": "stream",
          "text": [
            "[0, 1, 4, 9, 16, 25, 36, 49, 64, 81, 100]\n"
          ],
          "name": "stdout"
        }
      ]
    },
    {
      "cell_type": "markdown",
      "metadata": {
        "id": "dY5s5jSaCE2U",
        "colab_type": "text"
      },
      "source": [
        "**Question 5**\n",
        "\n",
        "Use a list comprehension to create a list of names that have scores of 60 and above, by using the dictionary below.\n",
        "```\n",
        "scores = {\n",
        "            \"Tanaka\": 20,\n",
        "            \"Kimura\": 60,\n",
        "            \"Li\": 89,\n",
        "            \"Kim\": 78,\n",
        "            \"Albert\": 73\n",
        "            }\n",
        "```"
      ]
    },
    {
      "cell_type": "code",
      "metadata": {
        "id": "eMHiibvrCE2V",
        "colab_type": "code",
        "outputId": "61b2bcf6-6a9f-4f99-d6ac-61ac76536779",
        "colab": {}
      },
      "source": [
        "scores = {\n",
        "             \"Tanaka\": 20,\n",
        "             \"Kimura\": 60,\n",
        "             \"Li\": 89,\n",
        "             \"Kim\": 78,\n",
        "             \"Beth Smith\": 98\n",
        "          }\n",
        "\n",
        "passed = [name for name, score in scores.items() if score >= 60]\n",
        "print(passed)"
      ],
      "execution_count": 0,
      "outputs": [
        {
          "output_type": "stream",
          "text": [
            "['Kimura', 'Li', 'Kim', 'Beth Smith']\n"
          ],
          "name": "stdout"
        }
      ]
    },
    {
      "cell_type": "code",
      "metadata": {
        "id": "aYu4_g4mCE2Y",
        "colab_type": "code",
        "colab": {}
      },
      "source": [
        ""
      ],
      "execution_count": 0,
      "outputs": []
    }
  ]
}