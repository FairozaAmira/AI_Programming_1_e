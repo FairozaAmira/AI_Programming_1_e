{
  "nbformat": 4,
  "nbformat_minor": 0,
  "metadata": {
    "kernelspec": {
      "display_name": "Python 3",
      "language": "python",
      "name": "python3"
    },
    "language_info": {
      "codemirror_mode": {
        "name": "ipython",
        "version": 3
      },
      "file_extension": ".py",
      "mimetype": "text/x-python",
      "name": "python",
      "nbconvert_exporter": "python",
      "pygments_lexer": "ipython3",
      "version": "3.7.3"
    },
    "colab": {
      "name": "Iterators_solution.ipynb",
      "provenance": [],
      "collapsed_sections": [],
      "include_colab_link": true
    }
  },
  "cells": [
    {
      "cell_type": "markdown",
      "metadata": {
        "id": "view-in-github",
        "colab_type": "text"
      },
      "source": [
        "<a href=\"https://colab.research.google.com/github/FairozaAmira/AI_Programming_1_e/blob/master/Lesson10/Iterators_solution.ipynb\" target=\"_parent\"><img src=\"https://colab.research.google.com/assets/colab-badge.svg\" alt=\"Open In Colab\"/></a>"
      ]
    },
    {
      "cell_type": "markdown",
      "metadata": {
        "id": "c-lPj1vBGFO2",
        "colab_type": "text"
      },
      "source": [
        "# Solution for Iterators"
      ]
    },
    {
      "cell_type": "markdown",
      "metadata": {
        "id": "zcIMKYCQGFO7",
        "colab_type": "text"
      },
      "source": [
        "**Question 1**\n",
        "\n",
        "Write a for loop to display number 1 to 10, by using `range`."
      ]
    },
    {
      "cell_type": "code",
      "metadata": {
        "id": "9BpVoCXNGFO-",
        "colab_type": "code",
        "outputId": "022aa40d-c700-4bf2-a494-44e7afdef48b",
        "colab": {}
      },
      "source": [
        "for i in range (1,11):\n",
        "    print(i)"
      ],
      "execution_count": 0,
      "outputs": [
        {
          "output_type": "stream",
          "text": [
            "1\n",
            "2\n",
            "3\n",
            "4\n",
            "5\n",
            "6\n",
            "7\n",
            "8\n",
            "9\n",
            "10\n"
          ],
          "name": "stdout"
        }
      ]
    },
    {
      "cell_type": "markdown",
      "metadata": {
        "id": "hpbpVYxiGFPG",
        "colab_type": "text"
      },
      "source": [
        "**Question 2**\n",
        "\n",
        "Write a for loop to display each number in the list below.\n",
        "`[1, 2, 3, 4, 5]`"
      ]
    },
    {
      "cell_type": "code",
      "metadata": {
        "id": "8BBF65t2GFPH",
        "colab_type": "code",
        "outputId": "eb38b3d3-2ee4-44f6-d582-138370d94cef",
        "colab": {}
      },
      "source": [
        "for number in [1, 2, 3, 4, 5]:\n",
        "    print (number)"
      ],
      "execution_count": 0,
      "outputs": [
        {
          "output_type": "stream",
          "text": [
            "1\n",
            "2\n",
            "3\n",
            "4\n",
            "5\n"
          ],
          "name": "stdout"
        }
      ]
    },
    {
      "cell_type": "markdown",
      "metadata": {
        "id": "X65Ex8jnGFPL",
        "colab_type": "text"
      },
      "source": [
        "**Question 3**\n",
        "\n",
        "By using `iter` function, display each number of the list above."
      ]
    },
    {
      "cell_type": "code",
      "metadata": {
        "id": "84zxPI6mGFPO",
        "colab_type": "code",
        "outputId": "a2da070f-9cdd-45ec-c16b-978c9a1bba68",
        "colab": {}
      },
      "source": [
        "I = iter([1,2,3,4,5])\n",
        "print(next(I))\n",
        "print(next(I))\n",
        "print(next(I))\n",
        "print(next(I))\n",
        "print(next(I))"
      ],
      "execution_count": 0,
      "outputs": [
        {
          "output_type": "stream",
          "text": [
            "1\n",
            "2\n",
            "3\n",
            "4\n",
            "5\n"
          ],
          "name": "stdout"
        }
      ]
    },
    {
      "cell_type": "markdown",
      "metadata": {
        "id": "_88BVtlGGFPT",
        "colab_type": "text"
      },
      "source": [
        "**Question 4**\n",
        "\n",
        "Try out this command. <br/>\n",
        "`range(10)`\n",
        "and this <br/>\n",
        "`iter(range(10)`"
      ]
    },
    {
      "cell_type": "code",
      "metadata": {
        "id": "S67SrpE7GFPT",
        "colab_type": "code",
        "outputId": "d590c77f-c56c-47cc-95fd-82cf8c165c03",
        "colab": {}
      },
      "source": [
        "range(10)"
      ],
      "execution_count": 0,
      "outputs": [
        {
          "output_type": "execute_result",
          "data": {
            "text/plain": [
              "range(0, 10)"
            ]
          },
          "metadata": {
            "tags": []
          },
          "execution_count": 4
        }
      ]
    },
    {
      "cell_type": "code",
      "metadata": {
        "id": "QMLbI9EnGFPW",
        "colab_type": "code",
        "outputId": "1c46ae86-f0b6-4636-ad5f-7a81baa90941",
        "colab": {}
      },
      "source": [
        "iter(range(10))"
      ],
      "execution_count": 0,
      "outputs": [
        {
          "output_type": "execute_result",
          "data": {
            "text/plain": [
              "<range_iterator at 0x1ea54e20630>"
            ]
          },
          "metadata": {
            "tags": []
          },
          "execution_count": 5
        }
      ]
    },
    {
      "cell_type": "markdown",
      "metadata": {
        "id": "ZnInIs1pGFPZ",
        "colab_type": "text"
      },
      "source": [
        "**Question 5**\n",
        "\n",
        "Using `enumerate`, display the index and the value of the for loop for the list below. \n",
        "\n",
        "`L = [1,2,3,4,5]`"
      ]
    },
    {
      "cell_type": "code",
      "metadata": {
        "id": "ZwejEXr5GFPa",
        "colab_type": "code",
        "outputId": "ee599cc1-ba6d-4638-b98a-a588328e399b",
        "colab": {}
      },
      "source": [
        "L = [1,2,3,4,5]\n",
        "for index, value in enumerate(L):\n",
        "    print(index, value)"
      ],
      "execution_count": 0,
      "outputs": [
        {
          "output_type": "stream",
          "text": [
            "0 1\n",
            "1 2\n",
            "2 3\n",
            "3 4\n",
            "4 5\n"
          ],
          "name": "stdout"
        }
      ]
    },
    {
      "cell_type": "code",
      "metadata": {
        "id": "OEQJqVhrGFPg",
        "colab_type": "code",
        "outputId": "776c4e11-f767-4a60-a489-d90986ebc97e",
        "colab": {}
      },
      "source": [
        "for i in range(len(L)):\n",
        "    print(i, L[i])"
      ],
      "execution_count": 0,
      "outputs": [
        {
          "output_type": "stream",
          "text": [
            "0 1\n",
            "1 2\n",
            "2 3\n",
            "3 4\n",
            "4 5\n"
          ],
          "name": "stdout"
        }
      ]
    },
    {
      "cell_type": "markdown",
      "metadata": {
        "id": "DH4ov3IFGFPk",
        "colab_type": "text"
      },
      "source": [
        "**Question 6**\n",
        "\n",
        "Suppose you have two lists and you would like to display each value of the two list (side by side). How would you like to do that?\n",
        "\n",
        "The two lists are `L1 = [1,2,3,4,5]` and `L2 = [6,7,8,9,10]`\n",
        "\n",
        "*Hint: You may use `zip` function to use that*"
      ]
    },
    {
      "cell_type": "code",
      "metadata": {
        "id": "jdtvM1oBGFPl",
        "colab_type": "code",
        "outputId": "4f21c75c-e209-444b-e590-88593d564283",
        "colab": {}
      },
      "source": [
        "L1 = [1,2,3,4,5]\n",
        "L2 = [6,7,8,9,10]\n",
        "\n",
        "for val_1, val_2 in zip(L1,L2):\n",
        "    print(val_1,val_2)"
      ],
      "execution_count": 0,
      "outputs": [
        {
          "output_type": "stream",
          "text": [
            "1 6\n",
            "2 7\n",
            "3 8\n",
            "4 9\n",
            "5 10\n"
          ],
          "name": "stdout"
        }
      ]
    },
    {
      "cell_type": "markdown",
      "metadata": {
        "id": "8kEJL6duGFPo",
        "colab_type": "text"
      },
      "source": [
        "**Question 7**\n",
        "\n",
        "You may also use `*` to iterate.\n",
        "For example, `*range(10)*"
      ]
    },
    {
      "cell_type": "code",
      "metadata": {
        "id": "KH-DiP20GFPp",
        "colab_type": "code",
        "outputId": "14841a01-59af-4b2e-8db3-b7ac440b1b52",
        "colab": {}
      },
      "source": [
        "print(*range(10))"
      ],
      "execution_count": 0,
      "outputs": [
        {
          "output_type": "stream",
          "text": [
            "0 1 2 3 4 5 6 7 8 9\n"
          ],
          "name": "stdout"
        }
      ]
    },
    {
      "cell_type": "markdown",
      "metadata": {
        "id": "A-O68xfyGFPs",
        "colab_type": "text"
      },
      "source": [
        "**Question 8**\n",
        "\n",
        "There are also `itertools` function that has other mathematical function\n",
        "for example,\n",
        "\n",
        "```\n",
        "from itertools import permutations\n",
        "p = permutations(range(3))\n",
        "print(*p)\n",
        "```\n",
        "will calculate and display the permutations of 3"
      ]
    },
    {
      "cell_type": "code",
      "metadata": {
        "id": "wcTuTDeIGFPv",
        "colab_type": "code",
        "outputId": "898bb1c3-2127-4a9e-8835-675f93e8cbcd",
        "colab": {}
      },
      "source": [
        "from itertools import permutations\n",
        "p = permutations(range(3))\n",
        "print(*p)"
      ],
      "execution_count": 0,
      "outputs": [
        {
          "output_type": "stream",
          "text": [
            "(0, 1, 2) (0, 2, 1) (1, 0, 2) (1, 2, 0) (2, 0, 1) (2, 1, 0)\n"
          ],
          "name": "stdout"
        }
      ]
    },
    {
      "cell_type": "markdown",
      "metadata": {
        "id": "SfBssB4IGFPy",
        "colab_type": "text"
      },
      "source": [
        "**Question 9**\n",
        "\n",
        "Let's try to `zip` list to a dictionary.\n",
        "\n",
        "Use these lists below.\n",
        "```\n",
        "names = [\"Barney\", \"Robin\", \"Ted\", \"Lily\", \"Marshall\"]\n",
        "age = [16, 20, 24, 18, 30]\n",
        "```"
      ]
    },
    {
      "cell_type": "code",
      "metadata": {
        "id": "spxu79WyGFPz",
        "colab_type": "code",
        "outputId": "7a7a0510-29b9-40fd-9cd4-e47214cae88e",
        "colab": {}
      },
      "source": [
        "names = [\"Barney\", \"Robin\", \"Ted\", \"Lily\", \"Marshall\"]\n",
        "age = [16, 20, 24, 18, 30]\n",
        "people = dict(zip(names, age))\n",
        "print(people)"
      ],
      "execution_count": 0,
      "outputs": [
        {
          "output_type": "stream",
          "text": [
            "{'Barney': 16, 'Robin': 20, 'Ted': 24, 'Lily': 18, 'Marshall': 30}\n"
          ],
          "name": "stdout"
        }
      ]
    },
    {
      "cell_type": "markdown",
      "metadata": {
        "id": "95z7961IGFP3",
        "colab_type": "text"
      },
      "source": [
        "**Question 10**\n",
        "\n",
        "Unzip the `people` tuple into two `names` and `ages`."
      ]
    },
    {
      "cell_type": "code",
      "metadata": {
        "id": "QbX2ypqOGFP4",
        "colab_type": "code",
        "outputId": "0ca4c241-f070-4a31-cb0a-8caed4313e50",
        "colab": {}
      },
      "source": [
        "cast = ((\"Barney\", 16), (\"Robin\", 20), (\"Ted\", 24), (\"Lily\", 18), (\"Marshall\", 30))\n",
        "\n",
        "# define names and heights here\n",
        "names, age = zip(*cast)\n",
        "\n",
        "print(names)\n",
        "print(age)"
      ],
      "execution_count": 0,
      "outputs": [
        {
          "output_type": "stream",
          "text": [
            "('Barney', 'Robin', 'Ted', 'Lily', 'Marshall')\n",
            "(16, 20, 24, 18, 30)\n"
          ],
          "name": "stdout"
        }
      ]
    },
    {
      "cell_type": "code",
      "metadata": {
        "id": "TZjw2Qt4GFP7",
        "colab_type": "code",
        "colab": {}
      },
      "source": [
        ""
      ],
      "execution_count": 0,
      "outputs": []
    }
  ]
}