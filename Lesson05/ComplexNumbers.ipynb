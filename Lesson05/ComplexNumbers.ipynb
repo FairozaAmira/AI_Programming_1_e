{
  "nbformat": 4,
  "nbformat_minor": 0,
  "metadata": {
    "kernelspec": {
      "display_name": "Python 3",
      "language": "python",
      "name": "python3"
    },
    "language_info": {
      "codemirror_mode": {
        "name": "ipython",
        "version": 3
      },
      "file_extension": ".py",
      "mimetype": "text/x-python",
      "name": "python",
      "nbconvert_exporter": "python",
      "pygments_lexer": "ipython3",
      "version": "3.7.3"
    },
    "colab": {
      "name": "ComplexNumbers.ipynb",
      "provenance": [],
      "include_colab_link": true
    }
  },
  "cells": [
    {
      "cell_type": "markdown",
      "metadata": {
        "id": "view-in-github",
        "colab_type": "text"
      },
      "source": [
        "<a href=\"https://colab.research.google.com/github/FairozaAmira/AI_Programming_1_e/blob/master/Lesson05/ComplexNumbers.ipynb\" target=\"_parent\"><img src=\"https://colab.research.google.com/assets/colab-badge.svg\" alt=\"Open In Colab\"/></a>"
      ]
    },
    {
      "cell_type": "markdown",
      "metadata": {
        "id": "d10qq-nbnXoc",
        "colab_type": "text"
      },
      "source": [
        "# Solutions for Complex Numbers Exercises"
      ]
    },
    {
      "cell_type": "markdown",
      "metadata": {
        "id": "d8QWQqKqnXof",
        "colab_type": "text"
      },
      "source": [
        "*Question 1*\n",
        "\n",
        "Create a complex number of (4, 5) and assign it as variable of c."
      ]
    },
    {
      "cell_type": "code",
      "metadata": {
        "id": "V-qqcbJZnXog",
        "colab_type": "code",
        "outputId": "d40d6b15-6141-4c35-e173-879024820dfe",
        "colab": {}
      },
      "source": [
        "c = complex(4,5)\n",
        "print(c)"
      ],
      "execution_count": 0,
      "outputs": [
        {
          "output_type": "stream",
          "text": [
            "(4+5j)\n"
          ],
          "name": "stdout"
        }
      ]
    },
    {
      "cell_type": "markdown",
      "metadata": {
        "id": "lmx8yu5DnXok",
        "colab_type": "text"
      },
      "source": [
        "*Question 2*\n",
        "\n",
        "Find the real and imaginary part of c."
      ]
    },
    {
      "cell_type": "code",
      "metadata": {
        "id": "OdjJla5LnXol",
        "colab_type": "code",
        "outputId": "1cbcbe8c-b894-4aac-a09f-c57911517881",
        "colab": {}
      },
      "source": [
        "c.real"
      ],
      "execution_count": 0,
      "outputs": [
        {
          "output_type": "execute_result",
          "data": {
            "text/plain": [
              "4.0"
            ]
          },
          "metadata": {
            "tags": []
          },
          "execution_count": 2
        }
      ]
    },
    {
      "cell_type": "code",
      "metadata": {
        "id": "7OUht2KbnXon",
        "colab_type": "code",
        "outputId": "59f3f49a-6459-40ee-a1dc-cfa392bddad4",
        "colab": {}
      },
      "source": [
        "c.imag"
      ],
      "execution_count": 0,
      "outputs": [
        {
          "output_type": "execute_result",
          "data": {
            "text/plain": [
              "5.0"
            ]
          },
          "metadata": {
            "tags": []
          },
          "execution_count": 3
        }
      ]
    },
    {
      "cell_type": "markdown",
      "metadata": {
        "id": "LLoM-Ed-nXoq",
        "colab_type": "text"
      },
      "source": [
        "*Question 3*\n",
        "\n",
        "Get the conjugate of c."
      ]
    },
    {
      "cell_type": "code",
      "metadata": {
        "id": "AZSRdXxGnXoq",
        "colab_type": "code",
        "outputId": "f3e7290c-bc7d-4b84-8a71-14df8e2ee2f5",
        "colab": {}
      },
      "source": [
        "c.conjugate()"
      ],
      "execution_count": 0,
      "outputs": [
        {
          "output_type": "execute_result",
          "data": {
            "text/plain": [
              "(4-5j)"
            ]
          },
          "metadata": {
            "tags": []
          },
          "execution_count": 4
        }
      ]
    },
    {
      "cell_type": "markdown",
      "metadata": {
        "id": "8aGxA060nXos",
        "colab_type": "text"
      },
      "source": [
        "*Question 4*\n",
        "\n",
        "Find the magnitude of c."
      ]
    },
    {
      "cell_type": "code",
      "metadata": {
        "id": "ZL588na_nXot",
        "colab_type": "code",
        "outputId": "1a243ae0-2515-4999-f70d-707a09b0a28a",
        "colab": {}
      },
      "source": [
        "abs(c)"
      ],
      "execution_count": 0,
      "outputs": [
        {
          "output_type": "execute_result",
          "data": {
            "text/plain": [
              "6.4031242374328485"
            ]
          },
          "metadata": {
            "tags": []
          },
          "execution_count": 5
        }
      ]
    }
  ]
}