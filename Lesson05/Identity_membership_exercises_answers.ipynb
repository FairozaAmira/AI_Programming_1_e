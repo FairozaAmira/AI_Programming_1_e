{
  "nbformat": 4,
  "nbformat_minor": 0,
  "metadata": {
    "kernelspec": {
      "display_name": "Python 3",
      "language": "python",
      "name": "python3"
    },
    "language_info": {
      "codemirror_mode": {
        "name": "ipython",
        "version": 3
      },
      "file_extension": ".py",
      "mimetype": "text/x-python",
      "name": "python",
      "nbconvert_exporter": "python",
      "pygments_lexer": "ipython3",
      "version": "3.7.3"
    },
    "colab": {
      "name": "Identity_membership_exercises_answers.ipynb ",
      "provenance": [],
      "include_colab_link": true
    }
  },
  "cells": [
    {
      "cell_type": "markdown",
      "metadata": {
        "id": "view-in-github",
        "colab_type": "text"
      },
      "source": [
        "<a href=\"https://colab.research.google.com/github/FairozaAmira/AI_Programming_1_e/blob/master/Lesson05/Identity_membership_exercises_answers.ipynb\" target=\"_parent\"><img src=\"https://colab.research.google.com/assets/colab-badge.svg\" alt=\"Open In Colab\"/></a>"
      ]
    },
    {
      "cell_type": "markdown",
      "metadata": {
        "id": "TRcwEiQPjogc",
        "colab_type": "text"
      },
      "source": [
        "# Solution for Identity and Membership Operators Exercises"
      ]
    },
    {
      "cell_type": "markdown",
      "metadata": {
        "id": "j4dbDsExjogf",
        "colab_type": "text"
      },
      "source": [
        "Question 1\n",
        "\n",
        "a = [4, 5, 6] and b = [4, 5, 6]. \n",
        "a == b ?\n",
        "a is b?\n",
        "a is not b?\n",
        "So, does a identical to b?"
      ]
    },
    {
      "cell_type": "code",
      "metadata": {
        "id": "UQgxvuQUjogg",
        "colab_type": "code",
        "colab": {}
      },
      "source": [
        "a = [4, 5, 6]\n",
        "b = [4, 5, 6]"
      ],
      "execution_count": 0,
      "outputs": []
    },
    {
      "cell_type": "code",
      "metadata": {
        "id": "vGfZ_EpVjogi",
        "colab_type": "code",
        "outputId": "513aa924-2348-45f1-d78c-62f673857a63",
        "colab": {
          "base_uri": "https://localhost:8080/",
          "height": 35
        }
      },
      "source": [
        "a == b"
      ],
      "execution_count": 2,
      "outputs": [
        {
          "output_type": "execute_result",
          "data": {
            "text/plain": [
              "True"
            ]
          },
          "metadata": {
            "tags": []
          },
          "execution_count": 2
        }
      ]
    },
    {
      "cell_type": "code",
      "metadata": {
        "id": "bbPN7Hxhjogp",
        "colab_type": "code",
        "outputId": "8efaaa56-3236-4c2e-9fda-1dff707bd614",
        "colab": {
          "base_uri": "https://localhost:8080/",
          "height": 35
        }
      },
      "source": [
        "a is b"
      ],
      "execution_count": 3,
      "outputs": [
        {
          "output_type": "execute_result",
          "data": {
            "text/plain": [
              "False"
            ]
          },
          "metadata": {
            "tags": []
          },
          "execution_count": 3
        }
      ]
    },
    {
      "cell_type": "code",
      "metadata": {
        "id": "l9NtZYo4jogr",
        "colab_type": "code",
        "outputId": "2b58d173-443a-4ca3-a6f0-ad806f33fa65",
        "colab": {
          "base_uri": "https://localhost:8080/",
          "height": 35
        }
      },
      "source": [
        "a is not b"
      ],
      "execution_count": 4,
      "outputs": [
        {
          "output_type": "execute_result",
          "data": {
            "text/plain": [
              "True"
            ]
          },
          "metadata": {
            "tags": []
          },
          "execution_count": 4
        }
      ]
    },
    {
      "cell_type": "markdown",
      "metadata": {
        "id": "Js2WNl25jogu",
        "colab_type": "text"
      },
      "source": [
        "Question 2\n",
        "\n",
        "What do identical objects look like?"
      ]
    },
    {
      "cell_type": "code",
      "metadata": {
        "id": "Q1konVlTjogu",
        "colab_type": "code",
        "outputId": "3661e5cf-b508-4bd4-b2cb-45840245b7d4",
        "colab": {
          "base_uri": "https://localhost:8080/",
          "height": 35
        }
      },
      "source": [
        "a = [4, 5, 6]\n",
        "b = a\n",
        "a is b"
      ],
      "execution_count": 5,
      "outputs": [
        {
          "output_type": "execute_result",
          "data": {
            "text/plain": [
              "True"
            ]
          },
          "metadata": {
            "tags": []
          },
          "execution_count": 5
        }
      ]
    },
    {
      "cell_type": "markdown",
      "metadata": {
        "id": "hsXij_4ojogw",
        "colab_type": "text"
      },
      "source": [
        "Question 3\n",
        "\n",
        "Does 4 is in a ? Does 5 is not in  a?"
      ]
    },
    {
      "cell_type": "code",
      "metadata": {
        "id": "8MS1HVzvjogx",
        "colab_type": "code",
        "outputId": "38c9bafc-196f-41ff-c18e-e67ce067046c",
        "colab": {
          "base_uri": "https://localhost:8080/",
          "height": 35
        }
      },
      "source": [
        "4 in a"
      ],
      "execution_count": 6,
      "outputs": [
        {
          "output_type": "execute_result",
          "data": {
            "text/plain": [
              "True"
            ]
          },
          "metadata": {
            "tags": []
          },
          "execution_count": 6
        }
      ]
    },
    {
      "cell_type": "code",
      "metadata": {
        "id": "9Hueco1ojogy",
        "colab_type": "code",
        "outputId": "aaa4b8d6-721e-4ca4-f47a-235682fe4c39",
        "colab": {
          "base_uri": "https://localhost:8080/",
          "height": 35
        }
      },
      "source": [
        "5 not in a"
      ],
      "execution_count": 7,
      "outputs": [
        {
          "output_type": "execute_result",
          "data": {
            "text/plain": [
              "False"
            ]
          },
          "metadata": {
            "tags": []
          },
          "execution_count": 7
        }
      ]
    }
  ]
}