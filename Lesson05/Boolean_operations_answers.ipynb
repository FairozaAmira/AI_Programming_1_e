{
  "nbformat": 4,
  "nbformat_minor": 0,
  "metadata": {
    "kernelspec": {
      "display_name": "Python 3",
      "language": "python",
      "name": "python3"
    },
    "language_info": {
      "codemirror_mode": {
        "name": "ipython",
        "version": 3
      },
      "file_extension": ".py",
      "mimetype": "text/x-python",
      "name": "python",
      "nbconvert_exporter": "python",
      "pygments_lexer": "ipython3",
      "version": "3.7.3"
    },
    "colab": {
      "name": "Boolean_operations_answers.ipynb ",
      "provenance": [],
      "include_colab_link": true
    }
  },
  "cells": [
    {
      "cell_type": "markdown",
      "metadata": {
        "id": "view-in-github",
        "colab_type": "text"
      },
      "source": [
        "<a href=\"https://colab.research.google.com/github/FairozaAmira/AI_Programming_1_e/blob/master/Lesson05/Boolean_operations_answers.ipynb\" target=\"_parent\"><img src=\"https://colab.research.google.com/assets/colab-badge.svg\" alt=\"Open In Colab\"/></a>"
      ]
    },
    {
      "cell_type": "markdown",
      "metadata": {
        "id": "OpjvflXNh2Co",
        "colab_type": "text"
      },
      "source": [
        "# Answers for Boolean Operations Exercises"
      ]
    },
    {
      "cell_type": "markdown",
      "metadata": {
        "id": "zWzAOQVRh2Cr",
        "colab_type": "text"
      },
      "source": [
        "Question 1\n",
        "\n",
        "Given x is 6. Find out whether x is between 1 to 7 or not. Use “and” operator."
      ]
    },
    {
      "cell_type": "code",
      "metadata": {
        "id": "vJc4DC5rh2Ct",
        "colab_type": "code",
        "outputId": "ed3b6688-ebe8-44bf-adeb-8eea4921758b",
        "colab": {
          "base_uri": "https://localhost:8080/",
          "height": 35
        }
      },
      "source": [
        "x = 6\n",
        "(x >= 1) and (x <= 7)"
      ],
      "execution_count": 1,
      "outputs": [
        {
          "output_type": "execute_result",
          "data": {
            "text/plain": [
              "True"
            ]
          },
          "metadata": {
            "tags": []
          },
          "execution_count": 1
        }
      ]
    },
    {
      "cell_type": "markdown",
      "metadata": {
        "id": "cb3kFTwXh2Cx",
        "colab_type": "text"
      },
      "source": [
        "Question 2\n",
        "\n",
        "Using the same solution as above, replace the “and” operator with “or” and replace 7 with 5. "
      ]
    },
    {
      "cell_type": "code",
      "metadata": {
        "id": "TT7iKcmTh2Cy",
        "colab_type": "code",
        "outputId": "f7f066bf-5983-41b3-fa3e-d7e36b48480d",
        "colab": {
          "base_uri": "https://localhost:8080/",
          "height": 35
        }
      },
      "source": [
        "(x >= 1) or (x <= 5)"
      ],
      "execution_count": 2,
      "outputs": [
        {
          "output_type": "execute_result",
          "data": {
            "text/plain": [
              "True"
            ]
          },
          "metadata": {
            "tags": []
          },
          "execution_count": 2
        }
      ]
    },
    {
      "cell_type": "markdown",
      "metadata": {
        "id": "ocmglKkfh2C0",
        "colab_type": "text"
      },
      "source": [
        "Question 3\n",
        "\n",
        "Use the x < 1 and put “not” before it."
      ]
    },
    {
      "cell_type": "code",
      "metadata": {
        "id": "YYIjO5QWh2C1",
        "colab_type": "code",
        "outputId": "48a989f3-6ee1-4f0e-fced-ae460fc08d25",
        "colab": {}
      },
      "source": [
        "not ( x < 1)"
      ],
      "execution_count": 0,
      "outputs": [
        {
          "output_type": "execute_result",
          "data": {
            "text/plain": [
              "True"
            ]
          },
          "metadata": {
            "tags": []
          },
          "execution_count": 6
        }
      ]
    }
  ]
}