{
  "nbformat": 4,
  "nbformat_minor": 0,
  "metadata": {
    "kernelspec": {
      "display_name": "Python 3",
      "language": "python",
      "name": "python3"
    },
    "language_info": {
      "codemirror_mode": {
        "name": "ipython",
        "version": 3
      },
      "file_extension": ".py",
      "mimetype": "text/x-python",
      "name": "python",
      "nbconvert_exporter": "python",
      "pygments_lexer": "ipython3",
      "version": "3.7.3"
    },
    "colab": {
      "name": "AssignmentOperations_answers.ipynb ",
      "provenance": [],
      "include_colab_link": true
    }
  },
  "cells": [
    {
      "cell_type": "markdown",
      "metadata": {
        "id": "view-in-github",
        "colab_type": "text"
      },
      "source": [
        "<a href=\"https://colab.research.google.com/github/FairozaAmira/AI_Programming_1_e/blob/master/Lesson05/AssignmentOperations_answers.ipynb\" target=\"_parent\"><img src=\"https://colab.research.google.com/assets/colab-badge.svg\" alt=\"Open In Colab\"/></a>"
      ]
    },
    {
      "cell_type": "markdown",
      "metadata": {
        "id": "DajuWdhteCKi",
        "colab_type": "text"
      },
      "source": [
        "# Answers for Assignment Operations Exercises"
      ]
    },
    {
      "cell_type": "markdown",
      "metadata": {
        "id": "4jd7e2OveCKk",
        "colab_type": "text"
      },
      "source": [
        "Question 1\n",
        "\n",
        "Assume a = 2, what is the sum of a + 2?"
      ]
    },
    {
      "cell_type": "code",
      "metadata": {
        "id": "t6h0uKsOeCKl",
        "colab_type": "code",
        "outputId": "70628344-fa6a-4e09-88c2-964669298241",
        "colab": {}
      },
      "source": [
        "a = 2\n",
        "a += 2\n",
        "print (a)"
      ],
      "execution_count": 0,
      "outputs": [
        {
          "output_type": "stream",
          "text": [
            "4\n"
          ],
          "name": "stdout"
        }
      ]
    },
    {
      "cell_type": "markdown",
      "metadata": {
        "id": "YoV-vEffeCKo",
        "colab_type": "text"
      },
      "source": [
        "Question 2\n",
        "\n",
        "Assume b= 5, what is the product of the a with b?"
      ]
    },
    {
      "cell_type": "code",
      "metadata": {
        "id": "fsuSjSkJeCKp",
        "colab_type": "code",
        "outputId": "b2f40f11-13e2-4fc3-e492-fe4df665f405",
        "colab": {}
      },
      "source": [
        "b = 5\n",
        "b *= a\n",
        "print(b)"
      ],
      "execution_count": 0,
      "outputs": [
        {
          "output_type": "stream",
          "text": [
            "20\n"
          ],
          "name": "stdout"
        }
      ]
    },
    {
      "cell_type": "markdown",
      "metadata": {
        "id": "PTCzWTA-eCKq",
        "colab_type": "text"
      },
      "source": [
        "Question 3\n",
        "\n",
        "Assume c = 10, c to the power of b is equal to? c ^ b = ?"
      ]
    },
    {
      "cell_type": "code",
      "metadata": {
        "id": "zhWch_nqeCKr",
        "colab_type": "code",
        "outputId": "3724666e-bca7-4c2f-9788-7e2a99a0a4fa",
        "colab": {}
      },
      "source": [
        "c = 10\n",
        "c **= b\n",
        "print(c)"
      ],
      "execution_count": 0,
      "outputs": [
        {
          "output_type": "stream",
          "text": [
            "100000000000000000000\n"
          ],
          "name": "stdout"
        }
      ]
    }
  ]
}