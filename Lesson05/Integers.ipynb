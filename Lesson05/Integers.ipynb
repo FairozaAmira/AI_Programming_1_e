{
  "nbformat": 4,
  "nbformat_minor": 0,
  "metadata": {
    "kernelspec": {
      "display_name": "Python 3",
      "language": "python",
      "name": "python3"
    },
    "language_info": {
      "codemirror_mode": {
        "name": "ipython",
        "version": 3
      },
      "file_extension": ".py",
      "mimetype": "text/x-python",
      "name": "python",
      "nbconvert_exporter": "python",
      "pygments_lexer": "ipython3",
      "version": "3.7.3"
    },
    "colab": {
      "name": "Integers.ipynb ",
      "provenance": [],
      "include_colab_link": true
    }
  },
  "cells": [
    {
      "cell_type": "markdown",
      "metadata": {
        "id": "view-in-github",
        "colab_type": "text"
      },
      "source": [
        "<a href=\"https://colab.research.google.com/github/FairozaAmira/AI_Programming_1_e/blob/master/Lesson05/Integers.ipynb\" target=\"_parent\"><img src=\"https://colab.research.google.com/assets/colab-badge.svg\" alt=\"Open In Colab\"/></a>"
      ]
    },
    {
      "cell_type": "markdown",
      "metadata": {
        "id": "0-GIXNONlAn6",
        "colab_type": "text"
      },
      "source": [
        "# Integers"
      ]
    },
    {
      "cell_type": "markdown",
      "metadata": {
        "id": "GfqrqQEClAn8",
        "colab_type": "text"
      },
      "source": [
        "*Question 1*\n",
        "\n",
        "Find the type of the value of the variables below.\n",
        "\n",
        "x = 1\n",
        "\n",
        "x = 1.5"
      ]
    },
    {
      "cell_type": "code",
      "metadata": {
        "id": "8nSmzEmXlAn9",
        "colab_type": "code",
        "outputId": "fdf6df61-8b46-4660-e8b8-c886fd8e6ec2",
        "colab": {}
      },
      "source": [
        "x = 1\n",
        "type(x)"
      ],
      "execution_count": 0,
      "outputs": [
        {
          "output_type": "execute_result",
          "data": {
            "text/plain": [
              "int"
            ]
          },
          "metadata": {
            "tags": []
          },
          "execution_count": 1
        }
      ]
    },
    {
      "cell_type": "code",
      "metadata": {
        "id": "4po0bQenlAoB",
        "colab_type": "code",
        "outputId": "0acfb169-f4ef-4877-f644-3e71d6b45044",
        "colab": {}
      },
      "source": [
        "x = 1.5\n",
        "type(x)"
      ],
      "execution_count": 0,
      "outputs": [
        {
          "output_type": "execute_result",
          "data": {
            "text/plain": [
              "float"
            ]
          },
          "metadata": {
            "tags": []
          },
          "execution_count": 2
        }
      ]
    },
    {
      "cell_type": "markdown",
      "metadata": {
        "id": "II-QQMx5lAoD",
        "colab_type": "text"
      },
      "source": [
        "*Question 2*\n",
        "\n",
        "Divide 7 by 3."
      ]
    },
    {
      "cell_type": "code",
      "metadata": {
        "id": "CSIJvYF-lAoE",
        "colab_type": "code",
        "outputId": "fcb200ff-f6bf-438d-9ad5-a944d535b218",
        "colab": {}
      },
      "source": [
        "print ( 7 / 3)"
      ],
      "execution_count": 0,
      "outputs": [
        {
          "output_type": "stream",
          "text": [
            "2.3333333333333335\n"
          ],
          "name": "stdout"
        }
      ]
    },
    {
      "cell_type": "markdown",
      "metadata": {
        "id": "llL3SNt2lAoG",
        "colab_type": "text"
      },
      "source": [
        "*Question 3*\n",
        "\n",
        "Divide 7 by 3 but the answer should be in integer value."
      ]
    },
    {
      "cell_type": "code",
      "metadata": {
        "id": "7ccedYWklAoH",
        "colab_type": "code",
        "outputId": "f4d8a77f-3c33-4276-914f-29711e11c3b4",
        "colab": {}
      },
      "source": [
        "print ( 7 // 3)"
      ],
      "execution_count": 0,
      "outputs": [
        {
          "output_type": "stream",
          "text": [
            "2\n"
          ],
          "name": "stdout"
        }
      ]
    },
    {
      "cell_type": "code",
      "metadata": {
        "id": "c8O-PLrflAoI",
        "colab_type": "code",
        "colab": {}
      },
      "source": [
        ""
      ],
      "execution_count": 0,
      "outputs": []
    }
  ]
}