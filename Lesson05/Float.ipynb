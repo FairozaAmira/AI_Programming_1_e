{
  "nbformat": 4,
  "nbformat_minor": 0,
  "metadata": {
    "kernelspec": {
      "display_name": "Python 3",
      "language": "python",
      "name": "python3"
    },
    "language_info": {
      "codemirror_mode": {
        "name": "ipython",
        "version": 3
      },
      "file_extension": ".py",
      "mimetype": "text/x-python",
      "name": "python",
      "nbconvert_exporter": "python",
      "pygments_lexer": "ipython3",
      "version": "3.7.3"
    },
    "colab": {
      "name": "Float.ipynb ",
      "provenance": [],
      "include_colab_link": true
    }
  },
  "cells": [
    {
      "cell_type": "markdown",
      "metadata": {
        "id": "view-in-github",
        "colab_type": "text"
      },
      "source": [
        "<a href=\"https://colab.research.google.com/github/FairozaAmira/AI_Programming_1_e/blob/master/Lesson05/Float.ipynb\" target=\"_parent\"><img src=\"https://colab.research.google.com/assets/colab-badge.svg\" alt=\"Open In Colab\"/></a>"
      ]
    },
    {
      "cell_type": "markdown",
      "metadata": {
        "id": "W2bi6h53l6fb",
        "colab_type": "text"
      },
      "source": [
        "# Solutions for string exercises"
      ]
    },
    {
      "cell_type": "markdown",
      "metadata": {
        "id": "f98QBzwhl6fe",
        "colab_type": "text"
      },
      "source": [
        "*Question 1*\n",
        "\n",
        "Find whether 0.000007 is equal to $7×10^{−6}$ (expressed as 7e-6)"
      ]
    },
    {
      "cell_type": "code",
      "metadata": {
        "id": "OWggIImUl6ff",
        "colab_type": "code",
        "outputId": "5b765f86-0fa8-4a0f-fcec-2398924efe80",
        "colab": {}
      },
      "source": [
        "a = 0.000007\n",
        "b = 7e-6\n",
        "a == b"
      ],
      "execution_count": 0,
      "outputs": [
        {
          "output_type": "execute_result",
          "data": {
            "text/plain": [
              "True"
            ]
          },
          "metadata": {
            "tags": []
          },
          "execution_count": 1
        }
      ]
    },
    {
      "cell_type": "markdown",
      "metadata": {
        "id": "Q96k7f_-l6fj",
        "colab_type": "text"
      },
      "source": [
        "*Question 2*\n",
        "\n",
        "Convert the integer \"25\" to a float number."
      ]
    },
    {
      "cell_type": "code",
      "metadata": {
        "id": "YpJpFo_ll6fj",
        "colab_type": "code",
        "outputId": "2dbc5e5f-3bd3-4c02-f205-116c98d8622d",
        "colab": {}
      },
      "source": [
        "float(25)"
      ],
      "execution_count": 0,
      "outputs": [
        {
          "output_type": "execute_result",
          "data": {
            "text/plain": [
              "25.0"
            ]
          },
          "metadata": {
            "tags": []
          },
          "execution_count": 2
        }
      ]
    },
    {
      "cell_type": "code",
      "metadata": {
        "id": "oCto6gmkl6fm",
        "colab_type": "code",
        "colab": {}
      },
      "source": [
        ""
      ],
      "execution_count": 0,
      "outputs": []
    }
  ]
}