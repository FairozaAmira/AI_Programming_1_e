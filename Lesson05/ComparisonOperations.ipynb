{
  "nbformat": 4,
  "nbformat_minor": 0,
  "metadata": {
    "kernelspec": {
      "display_name": "Python 3",
      "language": "python",
      "name": "python3"
    },
    "language_info": {
      "codemirror_mode": {
        "name": "ipython",
        "version": 3
      },
      "file_extension": ".py",
      "mimetype": "text/x-python",
      "name": "python",
      "nbconvert_exporter": "python",
      "pygments_lexer": "ipython3",
      "version": "3.7.3"
    },
    "colab": {
      "name": "ComparisonOperations_exercises_answers.ipynb ",
      "provenance": [],
      "include_colab_link": true
    }
  },
  "cells": [
    {
      "cell_type": "markdown",
      "metadata": {
        "id": "view-in-github",
        "colab_type": "text"
      },
      "source": [
        "<a href=\"https://colab.research.google.com/github/FairozaAmira/AI_Programming_1_e/blob/master/Lesson05/ComparisonOperations.ipynb\" target=\"_parent\"><img src=\"https://colab.research.google.com/assets/colab-badge.svg\" alt=\"Open In Colab\"/></a>"
      ]
    },
    {
      "cell_type": "markdown",
      "metadata": {
        "id": "zd82aLJofS-f",
        "colab_type": "text"
      },
      "source": [
        "# Answers for Comparison Operations Exercises"
      ]
    },
    {
      "cell_type": "markdown",
      "metadata": {
        "id": "DHiO4-8rfS-h",
        "colab_type": "text"
      },
      "source": [
        "Question 1\n",
        "\n",
        "Which one is the odd number?\n",
        "A) 13\n",
        "B) 72\n",
        "C) 255"
      ]
    },
    {
      "cell_type": "code",
      "metadata": {
        "id": "6GT4SlxzfS-h",
        "colab_type": "code",
        "outputId": "f546e9a6-336a-4ab7-88f5-fef2600b355b",
        "colab": {}
      },
      "source": [
        "13 % 2 == 1"
      ],
      "execution_count": 0,
      "outputs": [
        {
          "output_type": "execute_result",
          "data": {
            "text/plain": [
              "True"
            ]
          },
          "metadata": {
            "tags": []
          },
          "execution_count": 1
        }
      ]
    },
    {
      "cell_type": "code",
      "metadata": {
        "id": "DjoVhEaQfS-k",
        "colab_type": "code",
        "outputId": "bf5e293c-f09a-41f2-9752-6282245e7149",
        "colab": {}
      },
      "source": [
        "72 % 2 == 1"
      ],
      "execution_count": 0,
      "outputs": [
        {
          "output_type": "execute_result",
          "data": {
            "text/plain": [
              "False"
            ]
          },
          "metadata": {
            "tags": []
          },
          "execution_count": 2
        }
      ]
    },
    {
      "cell_type": "code",
      "metadata": {
        "id": "ulxgPtTKfS-m",
        "colab_type": "code",
        "outputId": "f2fb66b1-6d64-4e1e-9710-2896ac6302fb",
        "colab": {}
      },
      "source": [
        "255 % 2 == 1"
      ],
      "execution_count": 0,
      "outputs": [
        {
          "output_type": "execute_result",
          "data": {
            "text/plain": [
              "True"
            ]
          },
          "metadata": {
            "tags": []
          },
          "execution_count": 3
        }
      ]
    },
    {
      "cell_type": "markdown",
      "metadata": {
        "id": "rmcnYeRtfS-o",
        "colab_type": "text"
      },
      "source": [
        "Question 3\n",
        "\n",
        "Check if 63 is between 50 and 100."
      ]
    },
    {
      "cell_type": "code",
      "metadata": {
        "id": "5i7gqOdQfS-p",
        "colab_type": "code",
        "outputId": "9d0ef237-d1af-425e-8077-c512cf82c1c3",
        "colab": {}
      },
      "source": [
        "a = 63\n",
        "50 < a < 100"
      ],
      "execution_count": 0,
      "outputs": [
        {
          "output_type": "execute_result",
          "data": {
            "text/plain": [
              "True"
            ]
          },
          "metadata": {
            "tags": []
          },
          "execution_count": 4
        }
      ]
    }
  ]
}