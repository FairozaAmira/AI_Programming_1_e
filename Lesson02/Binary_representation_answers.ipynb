{
  "nbformat": 4,
  "nbformat_minor": 0,
  "metadata": {
    "kernelspec": {
      "display_name": "Python 3",
      "language": "python",
      "name": "python3"
    },
    "language_info": {
      "codemirror_mode": {
        "name": "ipython",
        "version": 3
      },
      "file_extension": ".py",
      "mimetype": "text/x-python",
      "name": "python",
      "nbconvert_exporter": "python",
      "pygments_lexer": "ipython3",
      "version": "3.7.3"
    },
    "colab": {
      "name": "Binary_representation_answers.ipynb",
      "provenance": []
    }
  },
  "cells": [
    {
      "cell_type": "markdown",
      "metadata": {
        "id": "IOp0AJeskbEl",
        "colab_type": "text"
      },
      "source": [
        "# Binary Representation_answers"
      ]
    },
    {
      "cell_type": "markdown",
      "metadata": {
        "id": "FtRxid4BkbEt",
        "colab_type": "text"
      },
      "source": [
        "Question 1:\n",
        "\n",
        "What is the binary representation of 12?"
      ]
    },
    {
      "cell_type": "code",
      "metadata": {
        "id": "lAP7izWJkbEv",
        "colab_type": "code",
        "colab": {},
        "outputId": "325df176-cdb0-48b8-f6c4-1f7843037bf2"
      },
      "source": [
        "bin(12)"
      ],
      "execution_count": 0,
      "outputs": [
        {
          "output_type": "execute_result",
          "data": {
            "text/plain": [
              "'0b1100'"
            ]
          },
          "metadata": {
            "tags": []
          },
          "execution_count": 1
        }
      ]
    },
    {
      "cell_type": "markdown",
      "metadata": {
        "id": "jVp6xCxgkbE7",
        "colab_type": "text"
      },
      "source": [
        "Question 2:\n",
        "\n",
        "What is the binary representation of 4?"
      ]
    },
    {
      "cell_type": "code",
      "metadata": {
        "id": "xePUwPr6kbE8",
        "colab_type": "code",
        "colab": {},
        "outputId": "93c2788d-faa3-41ef-bb7c-15f9513b462f"
      },
      "source": [
        "bin(4)"
      ],
      "execution_count": 0,
      "outputs": [
        {
          "output_type": "execute_result",
          "data": {
            "text/plain": [
              "'0b100'"
            ]
          },
          "metadata": {
            "tags": []
          },
          "execution_count": 2
        }
      ]
    },
    {
      "cell_type": "markdown",
      "metadata": {
        "id": "TYTT7AYpkbFA",
        "colab_type": "text"
      },
      "source": [
        "Question 3:\n",
        "\n",
        "Using bitwise OR, find the number which combines the bits of 12 and 4 and its binary representation."
      ]
    },
    {
      "cell_type": "code",
      "metadata": {
        "id": "ybfdO5fkkbFB",
        "colab_type": "code",
        "colab": {},
        "outputId": "ee3c51ae-d18a-406e-d212-5a92324e2715"
      },
      "source": [
        "12 | 4"
      ],
      "execution_count": 0,
      "outputs": [
        {
          "output_type": "execute_result",
          "data": {
            "text/plain": [
              "12"
            ]
          },
          "metadata": {
            "tags": []
          },
          "execution_count": 3
        }
      ]
    },
    {
      "cell_type": "code",
      "metadata": {
        "id": "zigVWjHtkbFI",
        "colab_type": "code",
        "colab": {},
        "outputId": "60863137-18a6-4629-b993-2afd3958df0e"
      },
      "source": [
        "bin(12 | 4)"
      ],
      "execution_count": 0,
      "outputs": [
        {
          "output_type": "execute_result",
          "data": {
            "text/plain": [
              "'0b1100'"
            ]
          },
          "metadata": {
            "tags": []
          },
          "execution_count": 4
        }
      ]
    }
  ]
}